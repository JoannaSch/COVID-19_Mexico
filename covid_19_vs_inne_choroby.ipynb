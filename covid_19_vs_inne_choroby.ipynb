{
 "cells": [
  {
   "cell_type": "code",
   "execution_count": 1,
   "id": "906d94e5",
   "metadata": {},
   "outputs": [],
   "source": [
    "import pandas as pd\n",
    "import numpy as np\n",
    "import seaborn as sns\n",
    "import matplotlib.pyplot as plt"
   ]
  },
  {
   "cell_type": "code",
   "execution_count": 2,
   "id": "d25c823f",
   "metadata": {
    "scrolled": false
   },
   "outputs": [
    {
     "data": {
      "text/html": [
       "<div>\n",
       "<style scoped>\n",
       "    .dataframe tbody tr th:only-of-type {\n",
       "        vertical-align: middle;\n",
       "    }\n",
       "\n",
       "    .dataframe tbody tr th {\n",
       "        vertical-align: top;\n",
       "    }\n",
       "\n",
       "    .dataframe thead th {\n",
       "        text-align: right;\n",
       "    }\n",
       "</style>\n",
       "<table border=\"1\" class=\"dataframe\">\n",
       "  <thead>\n",
       "    <tr style=\"text-align: right;\">\n",
       "      <th></th>\n",
       "      <th>Unnamed: 0</th>\n",
       "      <th>USMER</th>\n",
       "      <th>MEDICAL_UNIT</th>\n",
       "      <th>SEX</th>\n",
       "      <th>PATIENT_TYPE</th>\n",
       "      <th>DATE_DIED</th>\n",
       "      <th>INTUBED</th>\n",
       "      <th>PNEUMONIA</th>\n",
       "      <th>AGE</th>\n",
       "      <th>PREGNANT</th>\n",
       "      <th>...</th>\n",
       "      <th>OTHER_DISEASE</th>\n",
       "      <th>CARDIOVASCULAR</th>\n",
       "      <th>OBESITY</th>\n",
       "      <th>RENAL_CHRONIC</th>\n",
       "      <th>TOBACCO</th>\n",
       "      <th>CLASIFFICATION_FINAL</th>\n",
       "      <th>ICU</th>\n",
       "      <th>died</th>\n",
       "      <th>age_group</th>\n",
       "      <th>severity</th>\n",
       "    </tr>\n",
       "  </thead>\n",
       "  <tbody>\n",
       "    <tr>\n",
       "      <th>0</th>\n",
       "      <td>0</td>\n",
       "      <td>2</td>\n",
       "      <td>1</td>\n",
       "      <td>1</td>\n",
       "      <td>0</td>\n",
       "      <td>03/05/2020</td>\n",
       "      <td>0.0</td>\n",
       "      <td>1.0</td>\n",
       "      <td>65</td>\n",
       "      <td>0.0</td>\n",
       "      <td>...</td>\n",
       "      <td>0.0</td>\n",
       "      <td>0.0</td>\n",
       "      <td>0.0</td>\n",
       "      <td>0.0</td>\n",
       "      <td>0.0</td>\n",
       "      <td>1</td>\n",
       "      <td>0.0</td>\n",
       "      <td>1</td>\n",
       "      <td>4.0</td>\n",
       "      <td>4.0</td>\n",
       "    </tr>\n",
       "    <tr>\n",
       "      <th>1</th>\n",
       "      <td>1</td>\n",
       "      <td>2</td>\n",
       "      <td>1</td>\n",
       "      <td>2</td>\n",
       "      <td>0</td>\n",
       "      <td>03/06/2020</td>\n",
       "      <td>0.0</td>\n",
       "      <td>1.0</td>\n",
       "      <td>72</td>\n",
       "      <td>0.0</td>\n",
       "      <td>...</td>\n",
       "      <td>0.0</td>\n",
       "      <td>0.0</td>\n",
       "      <td>1.0</td>\n",
       "      <td>1.0</td>\n",
       "      <td>0.0</td>\n",
       "      <td>0</td>\n",
       "      <td>0.0</td>\n",
       "      <td>1</td>\n",
       "      <td>4.0</td>\n",
       "      <td>4.0</td>\n",
       "    </tr>\n",
       "    <tr>\n",
       "      <th>2</th>\n",
       "      <td>2</td>\n",
       "      <td>2</td>\n",
       "      <td>1</td>\n",
       "      <td>2</td>\n",
       "      <td>1</td>\n",
       "      <td>09/06/2020</td>\n",
       "      <td>1.0</td>\n",
       "      <td>0.0</td>\n",
       "      <td>55</td>\n",
       "      <td>0.0</td>\n",
       "      <td>...</td>\n",
       "      <td>0.0</td>\n",
       "      <td>0.0</td>\n",
       "      <td>0.0</td>\n",
       "      <td>0.0</td>\n",
       "      <td>0.0</td>\n",
       "      <td>1</td>\n",
       "      <td>0.0</td>\n",
       "      <td>1</td>\n",
       "      <td>3.0</td>\n",
       "      <td>4.0</td>\n",
       "    </tr>\n",
       "    <tr>\n",
       "      <th>3</th>\n",
       "      <td>3</td>\n",
       "      <td>2</td>\n",
       "      <td>1</td>\n",
       "      <td>1</td>\n",
       "      <td>0</td>\n",
       "      <td>12/06/2020</td>\n",
       "      <td>0.0</td>\n",
       "      <td>0.0</td>\n",
       "      <td>53</td>\n",
       "      <td>0.0</td>\n",
       "      <td>...</td>\n",
       "      <td>0.0</td>\n",
       "      <td>0.0</td>\n",
       "      <td>0.0</td>\n",
       "      <td>0.0</td>\n",
       "      <td>0.0</td>\n",
       "      <td>0</td>\n",
       "      <td>0.0</td>\n",
       "      <td>1</td>\n",
       "      <td>3.0</td>\n",
       "      <td>4.0</td>\n",
       "    </tr>\n",
       "    <tr>\n",
       "      <th>4</th>\n",
       "      <td>4</td>\n",
       "      <td>2</td>\n",
       "      <td>1</td>\n",
       "      <td>2</td>\n",
       "      <td>0</td>\n",
       "      <td>21/06/2020</td>\n",
       "      <td>0.0</td>\n",
       "      <td>0.0</td>\n",
       "      <td>68</td>\n",
       "      <td>0.0</td>\n",
       "      <td>...</td>\n",
       "      <td>0.0</td>\n",
       "      <td>0.0</td>\n",
       "      <td>0.0</td>\n",
       "      <td>0.0</td>\n",
       "      <td>0.0</td>\n",
       "      <td>1</td>\n",
       "      <td>0.0</td>\n",
       "      <td>1</td>\n",
       "      <td>4.0</td>\n",
       "      <td>4.0</td>\n",
       "    </tr>\n",
       "    <tr>\n",
       "      <th>...</th>\n",
       "      <td>...</td>\n",
       "      <td>...</td>\n",
       "      <td>...</td>\n",
       "      <td>...</td>\n",
       "      <td>...</td>\n",
       "      <td>...</td>\n",
       "      <td>...</td>\n",
       "      <td>...</td>\n",
       "      <td>...</td>\n",
       "      <td>...</td>\n",
       "      <td>...</td>\n",
       "      <td>...</td>\n",
       "      <td>...</td>\n",
       "      <td>...</td>\n",
       "      <td>...</td>\n",
       "      <td>...</td>\n",
       "      <td>...</td>\n",
       "      <td>...</td>\n",
       "      <td>...</td>\n",
       "      <td>...</td>\n",
       "      <td>...</td>\n",
       "    </tr>\n",
       "    <tr>\n",
       "      <th>1048549</th>\n",
       "      <td>1048570</td>\n",
       "      <td>2</td>\n",
       "      <td>13</td>\n",
       "      <td>2</td>\n",
       "      <td>0</td>\n",
       "      <td>9999-99-99</td>\n",
       "      <td>0.0</td>\n",
       "      <td>0.0</td>\n",
       "      <td>40</td>\n",
       "      <td>0.0</td>\n",
       "      <td>...</td>\n",
       "      <td>0.0</td>\n",
       "      <td>0.0</td>\n",
       "      <td>0.0</td>\n",
       "      <td>0.0</td>\n",
       "      <td>0.0</td>\n",
       "      <td>0</td>\n",
       "      <td>0.0</td>\n",
       "      <td>0</td>\n",
       "      <td>2.0</td>\n",
       "      <td>1.0</td>\n",
       "    </tr>\n",
       "    <tr>\n",
       "      <th>1048550</th>\n",
       "      <td>1048571</td>\n",
       "      <td>1</td>\n",
       "      <td>13</td>\n",
       "      <td>2</td>\n",
       "      <td>1</td>\n",
       "      <td>9999-99-99</td>\n",
       "      <td>0.0</td>\n",
       "      <td>0.0</td>\n",
       "      <td>51</td>\n",
       "      <td>0.0</td>\n",
       "      <td>...</td>\n",
       "      <td>0.0</td>\n",
       "      <td>0.0</td>\n",
       "      <td>0.0</td>\n",
       "      <td>0.0</td>\n",
       "      <td>0.0</td>\n",
       "      <td>0</td>\n",
       "      <td>0.0</td>\n",
       "      <td>0</td>\n",
       "      <td>3.0</td>\n",
       "      <td>1.0</td>\n",
       "    </tr>\n",
       "    <tr>\n",
       "      <th>1048551</th>\n",
       "      <td>1048572</td>\n",
       "      <td>2</td>\n",
       "      <td>13</td>\n",
       "      <td>2</td>\n",
       "      <td>0</td>\n",
       "      <td>9999-99-99</td>\n",
       "      <td>0.0</td>\n",
       "      <td>0.0</td>\n",
       "      <td>55</td>\n",
       "      <td>0.0</td>\n",
       "      <td>...</td>\n",
       "      <td>0.0</td>\n",
       "      <td>0.0</td>\n",
       "      <td>0.0</td>\n",
       "      <td>0.0</td>\n",
       "      <td>0.0</td>\n",
       "      <td>0</td>\n",
       "      <td>0.0</td>\n",
       "      <td>0</td>\n",
       "      <td>3.0</td>\n",
       "      <td>1.0</td>\n",
       "    </tr>\n",
       "    <tr>\n",
       "      <th>1048552</th>\n",
       "      <td>1048573</td>\n",
       "      <td>2</td>\n",
       "      <td>13</td>\n",
       "      <td>2</td>\n",
       "      <td>0</td>\n",
       "      <td>9999-99-99</td>\n",
       "      <td>0.0</td>\n",
       "      <td>0.0</td>\n",
       "      <td>28</td>\n",
       "      <td>0.0</td>\n",
       "      <td>...</td>\n",
       "      <td>0.0</td>\n",
       "      <td>0.0</td>\n",
       "      <td>0.0</td>\n",
       "      <td>0.0</td>\n",
       "      <td>0.0</td>\n",
       "      <td>0</td>\n",
       "      <td>0.0</td>\n",
       "      <td>0</td>\n",
       "      <td>2.0</td>\n",
       "      <td>1.0</td>\n",
       "    </tr>\n",
       "    <tr>\n",
       "      <th>1048553</th>\n",
       "      <td>1048574</td>\n",
       "      <td>2</td>\n",
       "      <td>13</td>\n",
       "      <td>2</td>\n",
       "      <td>0</td>\n",
       "      <td>9999-99-99</td>\n",
       "      <td>0.0</td>\n",
       "      <td>0.0</td>\n",
       "      <td>52</td>\n",
       "      <td>0.0</td>\n",
       "      <td>...</td>\n",
       "      <td>0.0</td>\n",
       "      <td>0.0</td>\n",
       "      <td>0.0</td>\n",
       "      <td>0.0</td>\n",
       "      <td>0.0</td>\n",
       "      <td>0</td>\n",
       "      <td>0.0</td>\n",
       "      <td>0</td>\n",
       "      <td>3.0</td>\n",
       "      <td>1.0</td>\n",
       "    </tr>\n",
       "  </tbody>\n",
       "</table>\n",
       "<p>1048554 rows × 25 columns</p>\n",
       "</div>"
      ],
      "text/plain": [
       "         Unnamed: 0  USMER  MEDICAL_UNIT  SEX  PATIENT_TYPE   DATE_DIED  \\\n",
       "0                 0      2             1    1             0  03/05/2020   \n",
       "1                 1      2             1    2             0  03/06/2020   \n",
       "2                 2      2             1    2             1  09/06/2020   \n",
       "3                 3      2             1    1             0  12/06/2020   \n",
       "4                 4      2             1    2             0  21/06/2020   \n",
       "...             ...    ...           ...  ...           ...         ...   \n",
       "1048549     1048570      2            13    2             0  9999-99-99   \n",
       "1048550     1048571      1            13    2             1  9999-99-99   \n",
       "1048551     1048572      2            13    2             0  9999-99-99   \n",
       "1048552     1048573      2            13    2             0  9999-99-99   \n",
       "1048553     1048574      2            13    2             0  9999-99-99   \n",
       "\n",
       "         INTUBED  PNEUMONIA  AGE  PREGNANT  ...  OTHER_DISEASE  \\\n",
       "0            0.0        1.0   65       0.0  ...            0.0   \n",
       "1            0.0        1.0   72       0.0  ...            0.0   \n",
       "2            1.0        0.0   55       0.0  ...            0.0   \n",
       "3            0.0        0.0   53       0.0  ...            0.0   \n",
       "4            0.0        0.0   68       0.0  ...            0.0   \n",
       "...          ...        ...  ...       ...  ...            ...   \n",
       "1048549      0.0        0.0   40       0.0  ...            0.0   \n",
       "1048550      0.0        0.0   51       0.0  ...            0.0   \n",
       "1048551      0.0        0.0   55       0.0  ...            0.0   \n",
       "1048552      0.0        0.0   28       0.0  ...            0.0   \n",
       "1048553      0.0        0.0   52       0.0  ...            0.0   \n",
       "\n",
       "         CARDIOVASCULAR  OBESITY  RENAL_CHRONIC  TOBACCO  \\\n",
       "0                   0.0      0.0            0.0      0.0   \n",
       "1                   0.0      1.0            1.0      0.0   \n",
       "2                   0.0      0.0            0.0      0.0   \n",
       "3                   0.0      0.0            0.0      0.0   \n",
       "4                   0.0      0.0            0.0      0.0   \n",
       "...                 ...      ...            ...      ...   \n",
       "1048549             0.0      0.0            0.0      0.0   \n",
       "1048550             0.0      0.0            0.0      0.0   \n",
       "1048551             0.0      0.0            0.0      0.0   \n",
       "1048552             0.0      0.0            0.0      0.0   \n",
       "1048553             0.0      0.0            0.0      0.0   \n",
       "\n",
       "         CLASIFFICATION_FINAL  ICU  died  age_group  severity  \n",
       "0                           1  0.0     1        4.0       4.0  \n",
       "1                           0  0.0     1        4.0       4.0  \n",
       "2                           1  0.0     1        3.0       4.0  \n",
       "3                           0  0.0     1        3.0       4.0  \n",
       "4                           1  0.0     1        4.0       4.0  \n",
       "...                       ...  ...   ...        ...       ...  \n",
       "1048549                     0  0.0     0        2.0       1.0  \n",
       "1048550                     0  0.0     0        3.0       1.0  \n",
       "1048551                     0  0.0     0        3.0       1.0  \n",
       "1048552                     0  0.0     0        2.0       1.0  \n",
       "1048553                     0  0.0     0        3.0       1.0  \n",
       "\n",
       "[1048554 rows x 25 columns]"
      ]
     },
     "execution_count": 2,
     "metadata": {},
     "output_type": "execute_result"
    }
   ],
   "source": [
    "df = pd.read_csv(\"covid_data_nonas.csv\")\n",
    "df"
   ]
  },
  {
   "cell_type": "code",
   "execution_count": 3,
   "id": "5891c0e0",
   "metadata": {
    "scrolled": true
   },
   "outputs": [
    {
     "data": {
      "text/html": [
       "<div>\n",
       "<style scoped>\n",
       "    .dataframe tbody tr th:only-of-type {\n",
       "        vertical-align: middle;\n",
       "    }\n",
       "\n",
       "    .dataframe tbody tr th {\n",
       "        vertical-align: top;\n",
       "    }\n",
       "\n",
       "    .dataframe thead th {\n",
       "        text-align: right;\n",
       "    }\n",
       "</style>\n",
       "<table border=\"1\" class=\"dataframe\">\n",
       "  <thead>\n",
       "    <tr style=\"text-align: right;\">\n",
       "      <th></th>\n",
       "      <th>Unnamed: 0</th>\n",
       "      <th>USMER</th>\n",
       "      <th>MEDICAL_UNIT</th>\n",
       "      <th>SEX</th>\n",
       "      <th>PATIENT_TYPE</th>\n",
       "      <th>DATE_DIED</th>\n",
       "      <th>INTUBED</th>\n",
       "      <th>PNEUMONIA</th>\n",
       "      <th>AGE</th>\n",
       "      <th>PREGNANT</th>\n",
       "      <th>...</th>\n",
       "      <th>OTHER_DISEASE</th>\n",
       "      <th>CARDIOVASCULAR</th>\n",
       "      <th>OBESITY</th>\n",
       "      <th>RENAL_CHRONIC</th>\n",
       "      <th>TOBACCO</th>\n",
       "      <th>CLASIFFICATION_FINAL</th>\n",
       "      <th>ICU</th>\n",
       "      <th>died</th>\n",
       "      <th>age_group</th>\n",
       "      <th>severity</th>\n",
       "    </tr>\n",
       "  </thead>\n",
       "  <tbody>\n",
       "    <tr>\n",
       "      <th>0</th>\n",
       "      <td>0</td>\n",
       "      <td>2</td>\n",
       "      <td>1</td>\n",
       "      <td>1</td>\n",
       "      <td>0</td>\n",
       "      <td>03/05/2020</td>\n",
       "      <td>0.0</td>\n",
       "      <td>1.0</td>\n",
       "      <td>65</td>\n",
       "      <td>0.0</td>\n",
       "      <td>...</td>\n",
       "      <td>0.0</td>\n",
       "      <td>0.0</td>\n",
       "      <td>0.0</td>\n",
       "      <td>0.0</td>\n",
       "      <td>0.0</td>\n",
       "      <td>1</td>\n",
       "      <td>0.0</td>\n",
       "      <td>1</td>\n",
       "      <td>4.0</td>\n",
       "      <td>4.0</td>\n",
       "    </tr>\n",
       "    <tr>\n",
       "      <th>2</th>\n",
       "      <td>2</td>\n",
       "      <td>2</td>\n",
       "      <td>1</td>\n",
       "      <td>2</td>\n",
       "      <td>1</td>\n",
       "      <td>09/06/2020</td>\n",
       "      <td>1.0</td>\n",
       "      <td>0.0</td>\n",
       "      <td>55</td>\n",
       "      <td>0.0</td>\n",
       "      <td>...</td>\n",
       "      <td>0.0</td>\n",
       "      <td>0.0</td>\n",
       "      <td>0.0</td>\n",
       "      <td>0.0</td>\n",
       "      <td>0.0</td>\n",
       "      <td>1</td>\n",
       "      <td>0.0</td>\n",
       "      <td>1</td>\n",
       "      <td>3.0</td>\n",
       "      <td>4.0</td>\n",
       "    </tr>\n",
       "    <tr>\n",
       "      <th>4</th>\n",
       "      <td>4</td>\n",
       "      <td>2</td>\n",
       "      <td>1</td>\n",
       "      <td>2</td>\n",
       "      <td>0</td>\n",
       "      <td>21/06/2020</td>\n",
       "      <td>0.0</td>\n",
       "      <td>0.0</td>\n",
       "      <td>68</td>\n",
       "      <td>0.0</td>\n",
       "      <td>...</td>\n",
       "      <td>0.0</td>\n",
       "      <td>0.0</td>\n",
       "      <td>0.0</td>\n",
       "      <td>0.0</td>\n",
       "      <td>0.0</td>\n",
       "      <td>1</td>\n",
       "      <td>0.0</td>\n",
       "      <td>1</td>\n",
       "      <td>4.0</td>\n",
       "      <td>4.0</td>\n",
       "    </tr>\n",
       "    <tr>\n",
       "      <th>5</th>\n",
       "      <td>5</td>\n",
       "      <td>2</td>\n",
       "      <td>1</td>\n",
       "      <td>1</td>\n",
       "      <td>1</td>\n",
       "      <td>9999-99-99</td>\n",
       "      <td>0.0</td>\n",
       "      <td>1.0</td>\n",
       "      <td>40</td>\n",
       "      <td>0.0</td>\n",
       "      <td>...</td>\n",
       "      <td>0.0</td>\n",
       "      <td>0.0</td>\n",
       "      <td>0.0</td>\n",
       "      <td>0.0</td>\n",
       "      <td>0.0</td>\n",
       "      <td>1</td>\n",
       "      <td>0.0</td>\n",
       "      <td>0</td>\n",
       "      <td>2.0</td>\n",
       "      <td>2.0</td>\n",
       "    </tr>\n",
       "    <tr>\n",
       "      <th>6</th>\n",
       "      <td>6</td>\n",
       "      <td>2</td>\n",
       "      <td>1</td>\n",
       "      <td>1</td>\n",
       "      <td>0</td>\n",
       "      <td>9999-99-99</td>\n",
       "      <td>0.0</td>\n",
       "      <td>0.0</td>\n",
       "      <td>64</td>\n",
       "      <td>0.0</td>\n",
       "      <td>...</td>\n",
       "      <td>0.0</td>\n",
       "      <td>0.0</td>\n",
       "      <td>0.0</td>\n",
       "      <td>0.0</td>\n",
       "      <td>0.0</td>\n",
       "      <td>1</td>\n",
       "      <td>0.0</td>\n",
       "      <td>0</td>\n",
       "      <td>4.0</td>\n",
       "      <td>1.0</td>\n",
       "    </tr>\n",
       "    <tr>\n",
       "      <th>...</th>\n",
       "      <td>...</td>\n",
       "      <td>...</td>\n",
       "      <td>...</td>\n",
       "      <td>...</td>\n",
       "      <td>...</td>\n",
       "      <td>...</td>\n",
       "      <td>...</td>\n",
       "      <td>...</td>\n",
       "      <td>...</td>\n",
       "      <td>...</td>\n",
       "      <td>...</td>\n",
       "      <td>...</td>\n",
       "      <td>...</td>\n",
       "      <td>...</td>\n",
       "      <td>...</td>\n",
       "      <td>...</td>\n",
       "      <td>...</td>\n",
       "      <td>...</td>\n",
       "      <td>...</td>\n",
       "      <td>...</td>\n",
       "      <td>...</td>\n",
       "    </tr>\n",
       "    <tr>\n",
       "      <th>1047912</th>\n",
       "      <td>1047933</td>\n",
       "      <td>1</td>\n",
       "      <td>13</td>\n",
       "      <td>1</td>\n",
       "      <td>1</td>\n",
       "      <td>9999-99-99</td>\n",
       "      <td>0.0</td>\n",
       "      <td>0.0</td>\n",
       "      <td>77</td>\n",
       "      <td>0.0</td>\n",
       "      <td>...</td>\n",
       "      <td>0.0</td>\n",
       "      <td>0.0</td>\n",
       "      <td>0.0</td>\n",
       "      <td>0.0</td>\n",
       "      <td>0.0</td>\n",
       "      <td>1</td>\n",
       "      <td>0.0</td>\n",
       "      <td>0</td>\n",
       "      <td>4.0</td>\n",
       "      <td>1.0</td>\n",
       "    </tr>\n",
       "    <tr>\n",
       "      <th>1047913</th>\n",
       "      <td>1047934</td>\n",
       "      <td>1</td>\n",
       "      <td>13</td>\n",
       "      <td>1</td>\n",
       "      <td>0</td>\n",
       "      <td>9999-99-99</td>\n",
       "      <td>0.0</td>\n",
       "      <td>0.0</td>\n",
       "      <td>55</td>\n",
       "      <td>0.0</td>\n",
       "      <td>...</td>\n",
       "      <td>0.0</td>\n",
       "      <td>0.0</td>\n",
       "      <td>0.0</td>\n",
       "      <td>0.0</td>\n",
       "      <td>0.0</td>\n",
       "      <td>1</td>\n",
       "      <td>0.0</td>\n",
       "      <td>0</td>\n",
       "      <td>3.0</td>\n",
       "      <td>1.0</td>\n",
       "    </tr>\n",
       "    <tr>\n",
       "      <th>1047914</th>\n",
       "      <td>1047935</td>\n",
       "      <td>1</td>\n",
       "      <td>13</td>\n",
       "      <td>2</td>\n",
       "      <td>0</td>\n",
       "      <td>9999-99-99</td>\n",
       "      <td>0.0</td>\n",
       "      <td>0.0</td>\n",
       "      <td>70</td>\n",
       "      <td>0.0</td>\n",
       "      <td>...</td>\n",
       "      <td>0.0</td>\n",
       "      <td>0.0</td>\n",
       "      <td>0.0</td>\n",
       "      <td>0.0</td>\n",
       "      <td>0.0</td>\n",
       "      <td>1</td>\n",
       "      <td>0.0</td>\n",
       "      <td>0</td>\n",
       "      <td>4.0</td>\n",
       "      <td>1.0</td>\n",
       "    </tr>\n",
       "    <tr>\n",
       "      <th>1047915</th>\n",
       "      <td>1047936</td>\n",
       "      <td>2</td>\n",
       "      <td>13</td>\n",
       "      <td>2</td>\n",
       "      <td>0</td>\n",
       "      <td>9999-99-99</td>\n",
       "      <td>0.0</td>\n",
       "      <td>0.0</td>\n",
       "      <td>32</td>\n",
       "      <td>0.0</td>\n",
       "      <td>...</td>\n",
       "      <td>0.0</td>\n",
       "      <td>0.0</td>\n",
       "      <td>0.0</td>\n",
       "      <td>0.0</td>\n",
       "      <td>0.0</td>\n",
       "      <td>1</td>\n",
       "      <td>0.0</td>\n",
       "      <td>0</td>\n",
       "      <td>2.0</td>\n",
       "      <td>1.0</td>\n",
       "    </tr>\n",
       "    <tr>\n",
       "      <th>1047916</th>\n",
       "      <td>1047937</td>\n",
       "      <td>2</td>\n",
       "      <td>13</td>\n",
       "      <td>1</td>\n",
       "      <td>0</td>\n",
       "      <td>9999-99-99</td>\n",
       "      <td>0.0</td>\n",
       "      <td>0.0</td>\n",
       "      <td>30</td>\n",
       "      <td>0.0</td>\n",
       "      <td>...</td>\n",
       "      <td>0.0</td>\n",
       "      <td>0.0</td>\n",
       "      <td>0.0</td>\n",
       "      <td>0.0</td>\n",
       "      <td>0.0</td>\n",
       "      <td>1</td>\n",
       "      <td>0.0</td>\n",
       "      <td>0</td>\n",
       "      <td>2.0</td>\n",
       "      <td>1.0</td>\n",
       "    </tr>\n",
       "  </tbody>\n",
       "</table>\n",
       "<p>391976 rows × 25 columns</p>\n",
       "</div>"
      ],
      "text/plain": [
       "         Unnamed: 0  USMER  MEDICAL_UNIT  SEX  PATIENT_TYPE   DATE_DIED  \\\n",
       "0                 0      2             1    1             0  03/05/2020   \n",
       "2                 2      2             1    2             1  09/06/2020   \n",
       "4                 4      2             1    2             0  21/06/2020   \n",
       "5                 5      2             1    1             1  9999-99-99   \n",
       "6                 6      2             1    1             0  9999-99-99   \n",
       "...             ...    ...           ...  ...           ...         ...   \n",
       "1047912     1047933      1            13    1             1  9999-99-99   \n",
       "1047913     1047934      1            13    1             0  9999-99-99   \n",
       "1047914     1047935      1            13    2             0  9999-99-99   \n",
       "1047915     1047936      2            13    2             0  9999-99-99   \n",
       "1047916     1047937      2            13    1             0  9999-99-99   \n",
       "\n",
       "         INTUBED  PNEUMONIA  AGE  PREGNANT  ...  OTHER_DISEASE  \\\n",
       "0            0.0        1.0   65       0.0  ...            0.0   \n",
       "2            1.0        0.0   55       0.0  ...            0.0   \n",
       "4            0.0        0.0   68       0.0  ...            0.0   \n",
       "5            0.0        1.0   40       0.0  ...            0.0   \n",
       "6            0.0        0.0   64       0.0  ...            0.0   \n",
       "...          ...        ...  ...       ...  ...            ...   \n",
       "1047912      0.0        0.0   77       0.0  ...            0.0   \n",
       "1047913      0.0        0.0   55       0.0  ...            0.0   \n",
       "1047914      0.0        0.0   70       0.0  ...            0.0   \n",
       "1047915      0.0        0.0   32       0.0  ...            0.0   \n",
       "1047916      0.0        0.0   30       0.0  ...            0.0   \n",
       "\n",
       "         CARDIOVASCULAR  OBESITY  RENAL_CHRONIC  TOBACCO  \\\n",
       "0                   0.0      0.0            0.0      0.0   \n",
       "2                   0.0      0.0            0.0      0.0   \n",
       "4                   0.0      0.0            0.0      0.0   \n",
       "5                   0.0      0.0            0.0      0.0   \n",
       "6                   0.0      0.0            0.0      0.0   \n",
       "...                 ...      ...            ...      ...   \n",
       "1047912             0.0      0.0            0.0      0.0   \n",
       "1047913             0.0      0.0            0.0      0.0   \n",
       "1047914             0.0      0.0            0.0      0.0   \n",
       "1047915             0.0      0.0            0.0      0.0   \n",
       "1047916             0.0      0.0            0.0      0.0   \n",
       "\n",
       "         CLASIFFICATION_FINAL  ICU  died  age_group  severity  \n",
       "0                           1  0.0     1        4.0       4.0  \n",
       "2                           1  0.0     1        3.0       4.0  \n",
       "4                           1  0.0     1        4.0       4.0  \n",
       "5                           1  0.0     0        2.0       2.0  \n",
       "6                           1  0.0     0        4.0       1.0  \n",
       "...                       ...  ...   ...        ...       ...  \n",
       "1047912                     1  0.0     0        4.0       1.0  \n",
       "1047913                     1  0.0     0        3.0       1.0  \n",
       "1047914                     1  0.0     0        4.0       1.0  \n",
       "1047915                     1  0.0     0        2.0       1.0  \n",
       "1047916                     1  0.0     0        2.0       1.0  \n",
       "\n",
       "[391976 rows x 25 columns]"
      ]
     },
     "execution_count": 3,
     "metadata": {},
     "output_type": "execute_result"
    }
   ],
   "source": [
    "df_only_cov = df[df['CLASIFFICATION_FINAL'] == 1] #tabela tylko osób z pozytywnym testem na covid\n",
    "df_only_cov"
   ]
  },
  {
   "cell_type": "code",
   "execution_count": 4,
   "id": "5c2d2d2a",
   "metadata": {},
   "outputs": [
    {
     "data": {
      "text/html": [
       "<div>\n",
       "<style scoped>\n",
       "    .dataframe tbody tr th:only-of-type {\n",
       "        vertical-align: middle;\n",
       "    }\n",
       "\n",
       "    .dataframe tbody tr th {\n",
       "        vertical-align: top;\n",
       "    }\n",
       "\n",
       "    .dataframe thead th {\n",
       "        text-align: right;\n",
       "    }\n",
       "</style>\n",
       "<table border=\"1\" class=\"dataframe\">\n",
       "  <thead>\n",
       "    <tr style=\"text-align: right;\">\n",
       "      <th></th>\n",
       "      <th>Unnamed: 0</th>\n",
       "      <th>USMER</th>\n",
       "      <th>MEDICAL_UNIT</th>\n",
       "      <th>SEX</th>\n",
       "      <th>PATIENT_TYPE</th>\n",
       "      <th>DATE_DIED</th>\n",
       "      <th>INTUBED</th>\n",
       "      <th>PNEUMONIA</th>\n",
       "      <th>AGE</th>\n",
       "      <th>PREGNANT</th>\n",
       "      <th>...</th>\n",
       "      <th>OTHER_DISEASE</th>\n",
       "      <th>CARDIOVASCULAR</th>\n",
       "      <th>OBESITY</th>\n",
       "      <th>RENAL_CHRONIC</th>\n",
       "      <th>TOBACCO</th>\n",
       "      <th>CLASIFFICATION_FINAL</th>\n",
       "      <th>ICU</th>\n",
       "      <th>died</th>\n",
       "      <th>age_group</th>\n",
       "      <th>severity</th>\n",
       "    </tr>\n",
       "  </thead>\n",
       "  <tbody>\n",
       "    <tr>\n",
       "      <th>1</th>\n",
       "      <td>1</td>\n",
       "      <td>2</td>\n",
       "      <td>1</td>\n",
       "      <td>2</td>\n",
       "      <td>0</td>\n",
       "      <td>03/06/2020</td>\n",
       "      <td>0.0</td>\n",
       "      <td>1.0</td>\n",
       "      <td>72</td>\n",
       "      <td>0.0</td>\n",
       "      <td>...</td>\n",
       "      <td>0.0</td>\n",
       "      <td>0.0</td>\n",
       "      <td>1.0</td>\n",
       "      <td>1.0</td>\n",
       "      <td>0.0</td>\n",
       "      <td>0</td>\n",
       "      <td>0.0</td>\n",
       "      <td>1</td>\n",
       "      <td>4.0</td>\n",
       "      <td>4.0</td>\n",
       "    </tr>\n",
       "    <tr>\n",
       "      <th>3</th>\n",
       "      <td>3</td>\n",
       "      <td>2</td>\n",
       "      <td>1</td>\n",
       "      <td>1</td>\n",
       "      <td>0</td>\n",
       "      <td>12/06/2020</td>\n",
       "      <td>0.0</td>\n",
       "      <td>0.0</td>\n",
       "      <td>53</td>\n",
       "      <td>0.0</td>\n",
       "      <td>...</td>\n",
       "      <td>0.0</td>\n",
       "      <td>0.0</td>\n",
       "      <td>0.0</td>\n",
       "      <td>0.0</td>\n",
       "      <td>0.0</td>\n",
       "      <td>0</td>\n",
       "      <td>0.0</td>\n",
       "      <td>1</td>\n",
       "      <td>3.0</td>\n",
       "      <td>4.0</td>\n",
       "    </tr>\n",
       "    <tr>\n",
       "      <th>42</th>\n",
       "      <td>42</td>\n",
       "      <td>2</td>\n",
       "      <td>1</td>\n",
       "      <td>1</td>\n",
       "      <td>0</td>\n",
       "      <td>9999-99-99</td>\n",
       "      <td>0.0</td>\n",
       "      <td>0.0</td>\n",
       "      <td>46</td>\n",
       "      <td>0.0</td>\n",
       "      <td>...</td>\n",
       "      <td>0.0</td>\n",
       "      <td>0.0</td>\n",
       "      <td>0.0</td>\n",
       "      <td>0.0</td>\n",
       "      <td>0.0</td>\n",
       "      <td>0</td>\n",
       "      <td>0.0</td>\n",
       "      <td>0</td>\n",
       "      <td>3.0</td>\n",
       "      <td>1.0</td>\n",
       "    </tr>\n",
       "    <tr>\n",
       "      <th>43</th>\n",
       "      <td>43</td>\n",
       "      <td>2</td>\n",
       "      <td>1</td>\n",
       "      <td>1</td>\n",
       "      <td>0</td>\n",
       "      <td>9999-99-99</td>\n",
       "      <td>0.0</td>\n",
       "      <td>0.0</td>\n",
       "      <td>26</td>\n",
       "      <td>0.0</td>\n",
       "      <td>...</td>\n",
       "      <td>0.0</td>\n",
       "      <td>0.0</td>\n",
       "      <td>0.0</td>\n",
       "      <td>0.0</td>\n",
       "      <td>0.0</td>\n",
       "      <td>0</td>\n",
       "      <td>0.0</td>\n",
       "      <td>0</td>\n",
       "      <td>2.0</td>\n",
       "      <td>1.0</td>\n",
       "    </tr>\n",
       "    <tr>\n",
       "      <th>44</th>\n",
       "      <td>44</td>\n",
       "      <td>2</td>\n",
       "      <td>1</td>\n",
       "      <td>1</td>\n",
       "      <td>0</td>\n",
       "      <td>9999-99-99</td>\n",
       "      <td>0.0</td>\n",
       "      <td>0.0</td>\n",
       "      <td>43</td>\n",
       "      <td>0.0</td>\n",
       "      <td>...</td>\n",
       "      <td>0.0</td>\n",
       "      <td>0.0</td>\n",
       "      <td>0.0</td>\n",
       "      <td>0.0</td>\n",
       "      <td>0.0</td>\n",
       "      <td>0</td>\n",
       "      <td>0.0</td>\n",
       "      <td>0</td>\n",
       "      <td>3.0</td>\n",
       "      <td>1.0</td>\n",
       "    </tr>\n",
       "    <tr>\n",
       "      <th>...</th>\n",
       "      <td>...</td>\n",
       "      <td>...</td>\n",
       "      <td>...</td>\n",
       "      <td>...</td>\n",
       "      <td>...</td>\n",
       "      <td>...</td>\n",
       "      <td>...</td>\n",
       "      <td>...</td>\n",
       "      <td>...</td>\n",
       "      <td>...</td>\n",
       "      <td>...</td>\n",
       "      <td>...</td>\n",
       "      <td>...</td>\n",
       "      <td>...</td>\n",
       "      <td>...</td>\n",
       "      <td>...</td>\n",
       "      <td>...</td>\n",
       "      <td>...</td>\n",
       "      <td>...</td>\n",
       "      <td>...</td>\n",
       "      <td>...</td>\n",
       "    </tr>\n",
       "    <tr>\n",
       "      <th>1048549</th>\n",
       "      <td>1048570</td>\n",
       "      <td>2</td>\n",
       "      <td>13</td>\n",
       "      <td>2</td>\n",
       "      <td>0</td>\n",
       "      <td>9999-99-99</td>\n",
       "      <td>0.0</td>\n",
       "      <td>0.0</td>\n",
       "      <td>40</td>\n",
       "      <td>0.0</td>\n",
       "      <td>...</td>\n",
       "      <td>0.0</td>\n",
       "      <td>0.0</td>\n",
       "      <td>0.0</td>\n",
       "      <td>0.0</td>\n",
       "      <td>0.0</td>\n",
       "      <td>0</td>\n",
       "      <td>0.0</td>\n",
       "      <td>0</td>\n",
       "      <td>2.0</td>\n",
       "      <td>1.0</td>\n",
       "    </tr>\n",
       "    <tr>\n",
       "      <th>1048550</th>\n",
       "      <td>1048571</td>\n",
       "      <td>1</td>\n",
       "      <td>13</td>\n",
       "      <td>2</td>\n",
       "      <td>1</td>\n",
       "      <td>9999-99-99</td>\n",
       "      <td>0.0</td>\n",
       "      <td>0.0</td>\n",
       "      <td>51</td>\n",
       "      <td>0.0</td>\n",
       "      <td>...</td>\n",
       "      <td>0.0</td>\n",
       "      <td>0.0</td>\n",
       "      <td>0.0</td>\n",
       "      <td>0.0</td>\n",
       "      <td>0.0</td>\n",
       "      <td>0</td>\n",
       "      <td>0.0</td>\n",
       "      <td>0</td>\n",
       "      <td>3.0</td>\n",
       "      <td>1.0</td>\n",
       "    </tr>\n",
       "    <tr>\n",
       "      <th>1048551</th>\n",
       "      <td>1048572</td>\n",
       "      <td>2</td>\n",
       "      <td>13</td>\n",
       "      <td>2</td>\n",
       "      <td>0</td>\n",
       "      <td>9999-99-99</td>\n",
       "      <td>0.0</td>\n",
       "      <td>0.0</td>\n",
       "      <td>55</td>\n",
       "      <td>0.0</td>\n",
       "      <td>...</td>\n",
       "      <td>0.0</td>\n",
       "      <td>0.0</td>\n",
       "      <td>0.0</td>\n",
       "      <td>0.0</td>\n",
       "      <td>0.0</td>\n",
       "      <td>0</td>\n",
       "      <td>0.0</td>\n",
       "      <td>0</td>\n",
       "      <td>3.0</td>\n",
       "      <td>1.0</td>\n",
       "    </tr>\n",
       "    <tr>\n",
       "      <th>1048552</th>\n",
       "      <td>1048573</td>\n",
       "      <td>2</td>\n",
       "      <td>13</td>\n",
       "      <td>2</td>\n",
       "      <td>0</td>\n",
       "      <td>9999-99-99</td>\n",
       "      <td>0.0</td>\n",
       "      <td>0.0</td>\n",
       "      <td>28</td>\n",
       "      <td>0.0</td>\n",
       "      <td>...</td>\n",
       "      <td>0.0</td>\n",
       "      <td>0.0</td>\n",
       "      <td>0.0</td>\n",
       "      <td>0.0</td>\n",
       "      <td>0.0</td>\n",
       "      <td>0</td>\n",
       "      <td>0.0</td>\n",
       "      <td>0</td>\n",
       "      <td>2.0</td>\n",
       "      <td>1.0</td>\n",
       "    </tr>\n",
       "    <tr>\n",
       "      <th>1048553</th>\n",
       "      <td>1048574</td>\n",
       "      <td>2</td>\n",
       "      <td>13</td>\n",
       "      <td>2</td>\n",
       "      <td>0</td>\n",
       "      <td>9999-99-99</td>\n",
       "      <td>0.0</td>\n",
       "      <td>0.0</td>\n",
       "      <td>52</td>\n",
       "      <td>0.0</td>\n",
       "      <td>...</td>\n",
       "      <td>0.0</td>\n",
       "      <td>0.0</td>\n",
       "      <td>0.0</td>\n",
       "      <td>0.0</td>\n",
       "      <td>0.0</td>\n",
       "      <td>0</td>\n",
       "      <td>0.0</td>\n",
       "      <td>0</td>\n",
       "      <td>3.0</td>\n",
       "      <td>1.0</td>\n",
       "    </tr>\n",
       "  </tbody>\n",
       "</table>\n",
       "<p>656578 rows × 25 columns</p>\n",
       "</div>"
      ],
      "text/plain": [
       "         Unnamed: 0  USMER  MEDICAL_UNIT  SEX  PATIENT_TYPE   DATE_DIED  \\\n",
       "1                 1      2             1    2             0  03/06/2020   \n",
       "3                 3      2             1    1             0  12/06/2020   \n",
       "42               42      2             1    1             0  9999-99-99   \n",
       "43               43      2             1    1             0  9999-99-99   \n",
       "44               44      2             1    1             0  9999-99-99   \n",
       "...             ...    ...           ...  ...           ...         ...   \n",
       "1048549     1048570      2            13    2             0  9999-99-99   \n",
       "1048550     1048571      1            13    2             1  9999-99-99   \n",
       "1048551     1048572      2            13    2             0  9999-99-99   \n",
       "1048552     1048573      2            13    2             0  9999-99-99   \n",
       "1048553     1048574      2            13    2             0  9999-99-99   \n",
       "\n",
       "         INTUBED  PNEUMONIA  AGE  PREGNANT  ...  OTHER_DISEASE  \\\n",
       "1            0.0        1.0   72       0.0  ...            0.0   \n",
       "3            0.0        0.0   53       0.0  ...            0.0   \n",
       "42           0.0        0.0   46       0.0  ...            0.0   \n",
       "43           0.0        0.0   26       0.0  ...            0.0   \n",
       "44           0.0        0.0   43       0.0  ...            0.0   \n",
       "...          ...        ...  ...       ...  ...            ...   \n",
       "1048549      0.0        0.0   40       0.0  ...            0.0   \n",
       "1048550      0.0        0.0   51       0.0  ...            0.0   \n",
       "1048551      0.0        0.0   55       0.0  ...            0.0   \n",
       "1048552      0.0        0.0   28       0.0  ...            0.0   \n",
       "1048553      0.0        0.0   52       0.0  ...            0.0   \n",
       "\n",
       "         CARDIOVASCULAR  OBESITY  RENAL_CHRONIC  TOBACCO  \\\n",
       "1                   0.0      1.0            1.0      0.0   \n",
       "3                   0.0      0.0            0.0      0.0   \n",
       "42                  0.0      0.0            0.0      0.0   \n",
       "43                  0.0      0.0            0.0      0.0   \n",
       "44                  0.0      0.0            0.0      0.0   \n",
       "...                 ...      ...            ...      ...   \n",
       "1048549             0.0      0.0            0.0      0.0   \n",
       "1048550             0.0      0.0            0.0      0.0   \n",
       "1048551             0.0      0.0            0.0      0.0   \n",
       "1048552             0.0      0.0            0.0      0.0   \n",
       "1048553             0.0      0.0            0.0      0.0   \n",
       "\n",
       "         CLASIFFICATION_FINAL  ICU  died  age_group  severity  \n",
       "1                           0  0.0     1        4.0       4.0  \n",
       "3                           0  0.0     1        3.0       4.0  \n",
       "42                          0  0.0     0        3.0       1.0  \n",
       "43                          0  0.0     0        2.0       1.0  \n",
       "44                          0  0.0     0        3.0       1.0  \n",
       "...                       ...  ...   ...        ...       ...  \n",
       "1048549                     0  0.0     0        2.0       1.0  \n",
       "1048550                     0  0.0     0        3.0       1.0  \n",
       "1048551                     0  0.0     0        3.0       1.0  \n",
       "1048552                     0  0.0     0        2.0       1.0  \n",
       "1048553                     0  0.0     0        3.0       1.0  \n",
       "\n",
       "[656578 rows x 25 columns]"
      ]
     },
     "execution_count": 4,
     "metadata": {},
     "output_type": "execute_result"
    }
   ],
   "source": [
    "df_not_cov = df[df['CLASIFFICATION_FINAL'] == 0] #tabela osób z negatywnym wynikiem testu na covid\n",
    "df_not_cov"
   ]
  },
  {
   "cell_type": "code",
   "execution_count": 5,
   "id": "cfd35f75",
   "metadata": {
    "scrolled": true
   },
   "outputs": [
    {
     "data": {
      "text/plain": [
       "(391976, 25)"
      ]
     },
     "execution_count": 5,
     "metadata": {},
     "output_type": "execute_result"
    }
   ],
   "source": [
    "df_only_cov.shape #liczba wierszy/osób z covidem"
   ]
  },
  {
   "cell_type": "code",
   "execution_count": 6,
   "id": "befd35ce",
   "metadata": {},
   "outputs": [
    {
     "data": {
      "text/plain": [
       "(656578, 25)"
      ]
     },
     "execution_count": 6,
     "metadata": {},
     "output_type": "execute_result"
    }
   ],
   "source": [
    "df_not_cov.shape #liczba osób bez covidu"
   ]
  },
  {
   "attachments": {
    "image.png": {
     "image/png": "[encoded data removed]"
    }
   },
   "cell_type": "markdown",
   "id": "ab84be5b",
   "metadata": {},
   "source": [
    "![image.png](attachment:image.png)"
   ]
  },
  {
   "cell_type": "code",
   "execution_count": 7,
   "id": "c48924b3",
   "metadata": {
    "scrolled": true
   },
   "outputs": [
    {
     "data": {
      "text/html": [
       "<div>\n",
       "<style scoped>\n",
       "    .dataframe tbody tr th:only-of-type {\n",
       "        vertical-align: middle;\n",
       "    }\n",
       "\n",
       "    .dataframe tbody tr th {\n",
       "        vertical-align: top;\n",
       "    }\n",
       "\n",
       "    .dataframe thead th {\n",
       "        text-align: right;\n",
       "    }\n",
       "</style>\n",
       "<table border=\"1\" class=\"dataframe\">\n",
       "  <thead>\n",
       "    <tr style=\"text-align: right;\">\n",
       "      <th>DIABETES</th>\n",
       "      <th>0.0</th>\n",
       "      <th>1.0</th>\n",
       "    </tr>\n",
       "    <tr>\n",
       "      <th>died</th>\n",
       "      <th></th>\n",
       "      <th></th>\n",
       "    </tr>\n",
       "  </thead>\n",
       "  <tbody>\n",
       "    <tr>\n",
       "      <th>0</th>\n",
       "      <td>295913</td>\n",
       "      <td>41828</td>\n",
       "    </tr>\n",
       "    <tr>\n",
       "      <th>1</th>\n",
       "      <td>33951</td>\n",
       "      <td>20284</td>\n",
       "    </tr>\n",
       "  </tbody>\n",
       "</table>\n",
       "</div>"
      ],
      "text/plain": [
       "DIABETES     0.0    1.0\n",
       "died                   \n",
       "0         295913  41828\n",
       "1          33951  20284"
      ]
     },
     "execution_count": 7,
     "metadata": {},
     "output_type": "execute_result"
    }
   ],
   "source": [
    "pd.crosstab(df_only_cov['died'], df_only_cov['DIABETES']) #podgląd osób z tabeli covidowej w ujęciu zgonów i cukrzycy"
   ]
  },
  {
   "cell_type": "code",
   "execution_count": 8,
   "id": "9ae78d41",
   "metadata": {
    "scrolled": true
   },
   "outputs": [
    {
     "name": "stdout",
     "output_type": "stream",
     "text": [
      "41828\n",
      "20284\n"
     ]
    },
    {
     "data": {
      "text/plain": [
       "0.3265713549716641"
      ]
     },
     "execution_count": 8,
     "metadata": {},
     "output_type": "execute_result"
    }
   ],
   "source": [
    "#wyliczenie liczby osób mających cukrzycę, którzy wyleczyli się z covida\n",
    "surv_diab = len(df_only_cov[(df_only_cov['died'] == 0) & (df_only_cov['DIABETES'] == 1)])\n",
    "print(surv_diab)\n",
    "#wyliczenie liczby osób, które zmarły w wyniku infekcji covid i mających jednocześnie cukrzycę\n",
    "died_diab = len(df_only_cov[(df_only_cov['died'] == 1) & (df_only_cov['DIABETES'] == 1)])\n",
    "print(died_diab)\n",
    "#wyliczenie stosunku zgonów do wszystkich osób z cukrzycą\n",
    "P_diab = died_diab / (died_diab + surv_diab)\n",
    "P_diab"
   ]
  },
  {
   "cell_type": "code",
   "execution_count": 9,
   "id": "f61d5705",
   "metadata": {},
   "outputs": [
    {
     "data": {
      "text/html": [
       "<div>\n",
       "<style scoped>\n",
       "    .dataframe tbody tr th:only-of-type {\n",
       "        vertical-align: middle;\n",
       "    }\n",
       "\n",
       "    .dataframe tbody tr th {\n",
       "        vertical-align: top;\n",
       "    }\n",
       "\n",
       "    .dataframe thead th {\n",
       "        text-align: right;\n",
       "    }\n",
       "</style>\n",
       "<table border=\"1\" class=\"dataframe\">\n",
       "  <thead>\n",
       "    <tr style=\"text-align: right;\">\n",
       "      <th>COPD</th>\n",
       "      <th>0.0</th>\n",
       "      <th>1.0</th>\n",
       "    </tr>\n",
       "    <tr>\n",
       "      <th>died</th>\n",
       "      <th></th>\n",
       "      <th></th>\n",
       "    </tr>\n",
       "  </thead>\n",
       "  <tbody>\n",
       "    <tr>\n",
       "      <th>0</th>\n",
       "      <td>334146</td>\n",
       "      <td>3595</td>\n",
       "    </tr>\n",
       "    <tr>\n",
       "      <th>1</th>\n",
       "      <td>51699</td>\n",
       "      <td>2536</td>\n",
       "    </tr>\n",
       "  </tbody>\n",
       "</table>\n",
       "</div>"
      ],
      "text/plain": [
       "COPD     0.0   1.0\n",
       "died              \n",
       "0     334146  3595\n",
       "1      51699  2536"
      ]
     },
     "execution_count": 9,
     "metadata": {},
     "output_type": "execute_result"
    }
   ],
   "source": [
    "#powtórzenie powyższych czynności dla kolejnej choroby przewlekłej/czynnika ryzyka\n",
    "pd.crosstab(df_only_cov['died'], df_only_cov['COPD'])"
   ]
  },
  {
   "cell_type": "code",
   "execution_count": 10,
   "id": "aad4ef85",
   "metadata": {},
   "outputs": [
    {
     "name": "stdout",
     "output_type": "stream",
     "text": [
      "3595\n",
      "2536\n"
     ]
    },
    {
     "data": {
      "text/plain": [
       "0.4136356222475942"
      ]
     },
     "execution_count": 10,
     "metadata": {},
     "output_type": "execute_result"
    }
   ],
   "source": [
    "surv_copd = len(df_only_cov[(df_only_cov['died'] == 0) & (df_only_cov['COPD'] == 1)])\n",
    "print(surv_copd)\n",
    "died_copd = len(df_only_cov[(df_only_cov['died'] == 1) & (df_only_cov['COPD'] == 1)])\n",
    "print(died_copd)\n",
    "P_copd = died_copd / (died_copd + surv_copd)\n",
    "P_copd"
   ]
  },
  {
   "cell_type": "code",
   "execution_count": 11,
   "id": "e138608a",
   "metadata": {},
   "outputs": [
    {
     "data": {
      "text/html": [
       "<div>\n",
       "<style scoped>\n",
       "    .dataframe tbody tr th:only-of-type {\n",
       "        vertical-align: middle;\n",
       "    }\n",
       "\n",
       "    .dataframe tbody tr th {\n",
       "        vertical-align: top;\n",
       "    }\n",
       "\n",
       "    .dataframe thead th {\n",
       "        text-align: right;\n",
       "    }\n",
       "</style>\n",
       "<table border=\"1\" class=\"dataframe\">\n",
       "  <thead>\n",
       "    <tr style=\"text-align: right;\">\n",
       "      <th>ASTHMA</th>\n",
       "      <th>0.0</th>\n",
       "      <th>1.0</th>\n",
       "    </tr>\n",
       "    <tr>\n",
       "      <th>died</th>\n",
       "      <th></th>\n",
       "      <th></th>\n",
       "    </tr>\n",
       "  </thead>\n",
       "  <tbody>\n",
       "    <tr>\n",
       "      <th>0</th>\n",
       "      <td>328414</td>\n",
       "      <td>9327</td>\n",
       "    </tr>\n",
       "    <tr>\n",
       "      <th>1</th>\n",
       "      <td>53150</td>\n",
       "      <td>1085</td>\n",
       "    </tr>\n",
       "  </tbody>\n",
       "</table>\n",
       "</div>"
      ],
      "text/plain": [
       "ASTHMA     0.0   1.0\n",
       "died                \n",
       "0       328414  9327\n",
       "1        53150  1085"
      ]
     },
     "execution_count": 11,
     "metadata": {},
     "output_type": "execute_result"
    }
   ],
   "source": [
    "pd.crosstab(df_only_cov['died'], df_only_cov['ASTHMA'])"
   ]
  },
  {
   "cell_type": "code",
   "execution_count": 12,
   "id": "51ddb7de",
   "metadata": {},
   "outputs": [
    {
     "name": "stdout",
     "output_type": "stream",
     "text": [
      "9327\n",
      "1085\n"
     ]
    },
    {
     "data": {
      "text/plain": [
       "0.10420668459469842"
      ]
     },
     "execution_count": 12,
     "metadata": {},
     "output_type": "execute_result"
    }
   ],
   "source": [
    "surv_asthma = len(df_only_cov[(df_only_cov['died'] == 0) & (df_only_cov['ASTHMA'] == 1)])\n",
    "print(surv_asthma)\n",
    "died_asthma = len(df_only_cov[(df_only_cov['died'] == 1) & (df_only_cov['ASTHMA'] == 1)])\n",
    "print(died_asthma)\n",
    "P_asthma = died_asthma / (died_asthma + surv_asthma)\n",
    "P_asthma"
   ]
  },
  {
   "cell_type": "code",
   "execution_count": 13,
   "id": "99fdd47c",
   "metadata": {},
   "outputs": [
    {
     "data": {
      "text/html": [
       "<div>\n",
       "<style scoped>\n",
       "    .dataframe tbody tr th:only-of-type {\n",
       "        vertical-align: middle;\n",
       "    }\n",
       "\n",
       "    .dataframe tbody tr th {\n",
       "        vertical-align: top;\n",
       "    }\n",
       "\n",
       "    .dataframe thead th {\n",
       "        text-align: right;\n",
       "    }\n",
       "</style>\n",
       "<table border=\"1\" class=\"dataframe\">\n",
       "  <thead>\n",
       "    <tr style=\"text-align: right;\">\n",
       "      <th>INMSUPR</th>\n",
       "      <th>0.0</th>\n",
       "      <th>1.0</th>\n",
       "    </tr>\n",
       "    <tr>\n",
       "      <th>died</th>\n",
       "      <th></th>\n",
       "      <th></th>\n",
       "    </tr>\n",
       "  </thead>\n",
       "  <tbody>\n",
       "    <tr>\n",
       "      <th>0</th>\n",
       "      <td>334378</td>\n",
       "      <td>3363</td>\n",
       "    </tr>\n",
       "    <tr>\n",
       "      <th>1</th>\n",
       "      <td>52825</td>\n",
       "      <td>1410</td>\n",
       "    </tr>\n",
       "  </tbody>\n",
       "</table>\n",
       "</div>"
      ],
      "text/plain": [
       "INMSUPR     0.0   1.0\n",
       "died                 \n",
       "0        334378  3363\n",
       "1         52825  1410"
      ]
     },
     "execution_count": 13,
     "metadata": {},
     "output_type": "execute_result"
    }
   ],
   "source": [
    "pd.crosstab(df_only_cov['died'], df_only_cov['INMSUPR'])"
   ]
  },
  {
   "cell_type": "code",
   "execution_count": 14,
   "id": "acb77903",
   "metadata": {},
   "outputs": [
    {
     "name": "stdout",
     "output_type": "stream",
     "text": [
      "3363\n",
      "1410\n"
     ]
    },
    {
     "data": {
      "text/plain": [
       "0.295411690760528"
      ]
     },
     "execution_count": 14,
     "metadata": {},
     "output_type": "execute_result"
    }
   ],
   "source": [
    "surv_inmsupr = len(df_only_cov[(df_only_cov['died'] == 0) & (df_only_cov['INMSUPR'] == 1)])\n",
    "print(surv_inmsupr)\n",
    "died_inmsupr = len(df_only_cov[(df_only_cov['died'] == 1) & (df_only_cov['INMSUPR'] == 1)])\n",
    "print(died_inmsupr)\n",
    "P_inmsupr = died_inmsupr / (died_inmsupr + surv_inmsupr)\n",
    "P_inmsupr"
   ]
  },
  {
   "cell_type": "code",
   "execution_count": 15,
   "id": "bb4d70cc",
   "metadata": {},
   "outputs": [
    {
     "data": {
      "text/html": [
       "<div>\n",
       "<style scoped>\n",
       "    .dataframe tbody tr th:only-of-type {\n",
       "        vertical-align: middle;\n",
       "    }\n",
       "\n",
       "    .dataframe tbody tr th {\n",
       "        vertical-align: top;\n",
       "    }\n",
       "\n",
       "    .dataframe thead th {\n",
       "        text-align: right;\n",
       "    }\n",
       "</style>\n",
       "<table border=\"1\" class=\"dataframe\">\n",
       "  <thead>\n",
       "    <tr style=\"text-align: right;\">\n",
       "      <th>HIPERTENSION</th>\n",
       "      <th>0.0</th>\n",
       "      <th>1.0</th>\n",
       "    </tr>\n",
       "    <tr>\n",
       "      <th>died</th>\n",
       "      <th></th>\n",
       "      <th></th>\n",
       "    </tr>\n",
       "  </thead>\n",
       "  <tbody>\n",
       "    <tr>\n",
       "      <th>0</th>\n",
       "      <td>284174</td>\n",
       "      <td>53567</td>\n",
       "    </tr>\n",
       "    <tr>\n",
       "      <th>1</th>\n",
       "      <td>31078</td>\n",
       "      <td>23157</td>\n",
       "    </tr>\n",
       "  </tbody>\n",
       "</table>\n",
       "</div>"
      ],
      "text/plain": [
       "HIPERTENSION     0.0    1.0\n",
       "died                       \n",
       "0             284174  53567\n",
       "1              31078  23157"
      ]
     },
     "execution_count": 15,
     "metadata": {},
     "output_type": "execute_result"
    }
   ],
   "source": [
    "pd.crosstab(df_only_cov['died'], df_only_cov['HIPERTENSION'])"
   ]
  },
  {
   "cell_type": "code",
   "execution_count": 16,
   "id": "6337dc56",
   "metadata": {},
   "outputs": [
    {
     "name": "stdout",
     "output_type": "stream",
     "text": [
      "53567\n",
      "23157\n"
     ]
    },
    {
     "data": {
      "text/plain": [
       "0.30182211563526407"
      ]
     },
     "execution_count": 16,
     "metadata": {},
     "output_type": "execute_result"
    }
   ],
   "source": [
    "surv_hiper = len(df_only_cov[(df_only_cov['died'] == 0) & (df_only_cov['HIPERTENSION'] == 1)])\n",
    "print(surv_hiper)\n",
    "died_hiper = len(df_only_cov[(df_only_cov['died'] == 1) & (df_only_cov['HIPERTENSION'] == 1)])\n",
    "print(died_hiper)\n",
    "P_hiper = died_hiper / (died_hiper + surv_hiper)\n",
    "P_hiper"
   ]
  },
  {
   "cell_type": "code",
   "execution_count": 17,
   "id": "6a754d78",
   "metadata": {},
   "outputs": [
    {
     "data": {
      "text/html": [
       "<div>\n",
       "<style scoped>\n",
       "    .dataframe tbody tr th:only-of-type {\n",
       "        vertical-align: middle;\n",
       "    }\n",
       "\n",
       "    .dataframe tbody tr th {\n",
       "        vertical-align: top;\n",
       "    }\n",
       "\n",
       "    .dataframe thead th {\n",
       "        text-align: right;\n",
       "    }\n",
       "</style>\n",
       "<table border=\"1\" class=\"dataframe\">\n",
       "  <thead>\n",
       "    <tr style=\"text-align: right;\">\n",
       "      <th>OTHER_DISEASE</th>\n",
       "      <th>0.0</th>\n",
       "      <th>1.0</th>\n",
       "    </tr>\n",
       "    <tr>\n",
       "      <th>died</th>\n",
       "      <th></th>\n",
       "      <th></th>\n",
       "    </tr>\n",
       "  </thead>\n",
       "  <tbody>\n",
       "    <tr>\n",
       "      <th>0</th>\n",
       "      <td>330398</td>\n",
       "      <td>7343</td>\n",
       "    </tr>\n",
       "    <tr>\n",
       "      <th>1</th>\n",
       "      <td>51560</td>\n",
       "      <td>2675</td>\n",
       "    </tr>\n",
       "  </tbody>\n",
       "</table>\n",
       "</div>"
      ],
      "text/plain": [
       "OTHER_DISEASE     0.0   1.0\n",
       "died                       \n",
       "0              330398  7343\n",
       "1               51560  2675"
      ]
     },
     "execution_count": 17,
     "metadata": {},
     "output_type": "execute_result"
    }
   ],
   "source": [
    "pd.crosstab(df_only_cov['died'], df_only_cov['OTHER_DISEASE'])"
   ]
  },
  {
   "cell_type": "code",
   "execution_count": 18,
   "id": "6adca73c",
   "metadata": {},
   "outputs": [
    {
     "name": "stdout",
     "output_type": "stream",
     "text": [
      "7343\n",
      "2675\n"
     ]
    },
    {
     "data": {
      "text/plain": [
       "0.26701936514274305"
      ]
     },
     "execution_count": 18,
     "metadata": {},
     "output_type": "execute_result"
    }
   ],
   "source": [
    "surv_other = len(df_only_cov[(df_only_cov['died'] == 0) & (df_only_cov['OTHER_DISEASE'] == 1)])\n",
    "print(surv_other)\n",
    "died_other = len(df_only_cov[(df_only_cov['died'] == 1) & (df_only_cov['OTHER_DISEASE'] == 1)])\n",
    "print(died_other)\n",
    "P_other = died_other / (died_other + surv_other)\n",
    "P_other"
   ]
  },
  {
   "cell_type": "code",
   "execution_count": 19,
   "id": "0d9c2eef",
   "metadata": {},
   "outputs": [
    {
     "data": {
      "text/html": [
       "<div>\n",
       "<style scoped>\n",
       "    .dataframe tbody tr th:only-of-type {\n",
       "        vertical-align: middle;\n",
       "    }\n",
       "\n",
       "    .dataframe tbody tr th {\n",
       "        vertical-align: top;\n",
       "    }\n",
       "\n",
       "    .dataframe thead th {\n",
       "        text-align: right;\n",
       "    }\n",
       "</style>\n",
       "<table border=\"1\" class=\"dataframe\">\n",
       "  <thead>\n",
       "    <tr style=\"text-align: right;\">\n",
       "      <th>CARDIOVASCULAR</th>\n",
       "      <th>0.0</th>\n",
       "      <th>1.0</th>\n",
       "    </tr>\n",
       "    <tr>\n",
       "      <th>died</th>\n",
       "      <th></th>\n",
       "      <th></th>\n",
       "    </tr>\n",
       "  </thead>\n",
       "  <tbody>\n",
       "    <tr>\n",
       "      <th>0</th>\n",
       "      <td>332092</td>\n",
       "      <td>5649</td>\n",
       "    </tr>\n",
       "    <tr>\n",
       "      <th>1</th>\n",
       "      <td>51378</td>\n",
       "      <td>2857</td>\n",
       "    </tr>\n",
       "  </tbody>\n",
       "</table>\n",
       "</div>"
      ],
      "text/plain": [
       "CARDIOVASCULAR     0.0   1.0\n",
       "died                        \n",
       "0               332092  5649\n",
       "1                51378  2857"
      ]
     },
     "execution_count": 19,
     "metadata": {},
     "output_type": "execute_result"
    }
   ],
   "source": [
    "pd.crosstab(df_only_cov['died'], df_only_cov['CARDIOVASCULAR'])"
   ]
  },
  {
   "cell_type": "code",
   "execution_count": 20,
   "id": "0ef15ee1",
   "metadata": {},
   "outputs": [
    {
     "name": "stdout",
     "output_type": "stream",
     "text": [
      "5649\n",
      "2857\n"
     ]
    },
    {
     "data": {
      "text/plain": [
       "0.3358805549024218"
      ]
     },
     "execution_count": 20,
     "metadata": {},
     "output_type": "execute_result"
    }
   ],
   "source": [
    "surv_cardio = len(df_only_cov[(df_only_cov['died'] == 0) & (df_only_cov['CARDIOVASCULAR'] == 1)])\n",
    "print(surv_cardio)\n",
    "died_cardio = len(df_only_cov[(df_only_cov['died'] == 1) & (df_only_cov['CARDIOVASCULAR'] == 1)])\n",
    "print(died_cardio)\n",
    "P_cardio = died_cardio / (died_cardio + surv_cardio)\n",
    "P_cardio"
   ]
  },
  {
   "cell_type": "code",
   "execution_count": 21,
   "id": "f3eeb61b",
   "metadata": {},
   "outputs": [
    {
     "data": {
      "text/html": [
       "<div>\n",
       "<style scoped>\n",
       "    .dataframe tbody tr th:only-of-type {\n",
       "        vertical-align: middle;\n",
       "    }\n",
       "\n",
       "    .dataframe tbody tr th {\n",
       "        vertical-align: top;\n",
       "    }\n",
       "\n",
       "    .dataframe thead th {\n",
       "        text-align: right;\n",
       "    }\n",
       "</style>\n",
       "<table border=\"1\" class=\"dataframe\">\n",
       "  <thead>\n",
       "    <tr style=\"text-align: right;\">\n",
       "      <th>OBESITY</th>\n",
       "      <th>0.0</th>\n",
       "      <th>1.0</th>\n",
       "    </tr>\n",
       "    <tr>\n",
       "      <th>died</th>\n",
       "      <th></th>\n",
       "      <th></th>\n",
       "    </tr>\n",
       "  </thead>\n",
       "  <tbody>\n",
       "    <tr>\n",
       "      <th>0</th>\n",
       "      <td>278217</td>\n",
       "      <td>59524</td>\n",
       "    </tr>\n",
       "    <tr>\n",
       "      <th>1</th>\n",
       "      <td>40986</td>\n",
       "      <td>13249</td>\n",
       "    </tr>\n",
       "  </tbody>\n",
       "</table>\n",
       "</div>"
      ],
      "text/plain": [
       "OBESITY     0.0    1.0\n",
       "died                  \n",
       "0        278217  59524\n",
       "1         40986  13249"
      ]
     },
     "execution_count": 21,
     "metadata": {},
     "output_type": "execute_result"
    }
   ],
   "source": [
    "pd.crosstab(df_only_cov['died'], df_only_cov['OBESITY'])"
   ]
  },
  {
   "cell_type": "code",
   "execution_count": 22,
   "id": "4b4c4368",
   "metadata": {},
   "outputs": [
    {
     "name": "stdout",
     "output_type": "stream",
     "text": [
      "59524\n",
      "13249\n"
     ]
    },
    {
     "data": {
      "text/plain": [
       "0.18205928022755694"
      ]
     },
     "execution_count": 22,
     "metadata": {},
     "output_type": "execute_result"
    }
   ],
   "source": [
    "surv_obesity = len(df_only_cov[(df_only_cov['died'] == 0) & (df_only_cov['OBESITY'] == 1)])\n",
    "print(surv_obesity)\n",
    "died_obesity = len(df_only_cov[(df_only_cov['died'] == 1) & (df_only_cov['OBESITY'] == 1)])\n",
    "print(died_obesity)\n",
    "P_obesity = died_obesity / (died_obesity + surv_obesity)\n",
    "P_obesity"
   ]
  },
  {
   "cell_type": "code",
   "execution_count": 23,
   "id": "f504b557",
   "metadata": {},
   "outputs": [
    {
     "data": {
      "text/html": [
       "<div>\n",
       "<style scoped>\n",
       "    .dataframe tbody tr th:only-of-type {\n",
       "        vertical-align: middle;\n",
       "    }\n",
       "\n",
       "    .dataframe tbody tr th {\n",
       "        vertical-align: top;\n",
       "    }\n",
       "\n",
       "    .dataframe thead th {\n",
       "        text-align: right;\n",
       "    }\n",
       "</style>\n",
       "<table border=\"1\" class=\"dataframe\">\n",
       "  <thead>\n",
       "    <tr style=\"text-align: right;\">\n",
       "      <th>RENAL_CHRONIC</th>\n",
       "      <th>0.0</th>\n",
       "      <th>1.0</th>\n",
       "    </tr>\n",
       "    <tr>\n",
       "      <th>died</th>\n",
       "      <th></th>\n",
       "      <th></th>\n",
       "    </tr>\n",
       "  </thead>\n",
       "  <tbody>\n",
       "    <tr>\n",
       "      <th>0</th>\n",
       "      <td>333343</td>\n",
       "      <td>4398</td>\n",
       "    </tr>\n",
       "    <tr>\n",
       "      <th>1</th>\n",
       "      <td>50681</td>\n",
       "      <td>3554</td>\n",
       "    </tr>\n",
       "  </tbody>\n",
       "</table>\n",
       "</div>"
      ],
      "text/plain": [
       "RENAL_CHRONIC     0.0   1.0\n",
       "died                       \n",
       "0              333343  4398\n",
       "1               50681  3554"
      ]
     },
     "execution_count": 23,
     "metadata": {},
     "output_type": "execute_result"
    }
   ],
   "source": [
    "pd.crosstab(df_only_cov['died'], df_only_cov['RENAL_CHRONIC'])"
   ]
  },
  {
   "cell_type": "code",
   "execution_count": 24,
   "id": "93f817d4",
   "metadata": {},
   "outputs": [
    {
     "name": "stdout",
     "output_type": "stream",
     "text": [
      "4398\n",
      "3554\n"
     ]
    },
    {
     "data": {
      "text/plain": [
       "0.44693158953722334"
      ]
     },
     "execution_count": 24,
     "metadata": {},
     "output_type": "execute_result"
    }
   ],
   "source": [
    "surv_renal = len(df_only_cov[(df_only_cov['died'] == 0) & (df_only_cov['RENAL_CHRONIC'] == 1)])\n",
    "print(surv_renal)\n",
    "died_renal = len(df_only_cov[(df_only_cov['died'] == 1) & (df_only_cov['RENAL_CHRONIC'] == 1)])\n",
    "print(died_renal)\n",
    "P_renal = died_renal / (died_renal + surv_renal)\n",
    "P_renal"
   ]
  },
  {
   "cell_type": "code",
   "execution_count": 25,
   "id": "dccdad55",
   "metadata": {},
   "outputs": [
    {
     "data": {
      "text/html": [
       "<div>\n",
       "<style scoped>\n",
       "    .dataframe tbody tr th:only-of-type {\n",
       "        vertical-align: middle;\n",
       "    }\n",
       "\n",
       "    .dataframe tbody tr th {\n",
       "        vertical-align: top;\n",
       "    }\n",
       "\n",
       "    .dataframe thead th {\n",
       "        text-align: right;\n",
       "    }\n",
       "</style>\n",
       "<table border=\"1\" class=\"dataframe\">\n",
       "  <thead>\n",
       "    <tr style=\"text-align: right;\">\n",
       "      <th>TOBACCO</th>\n",
       "      <th>0.0</th>\n",
       "      <th>1.0</th>\n",
       "    </tr>\n",
       "    <tr>\n",
       "      <th>died</th>\n",
       "      <th></th>\n",
       "      <th></th>\n",
       "    </tr>\n",
       "  </thead>\n",
       "  <tbody>\n",
       "    <tr>\n",
       "      <th>0</th>\n",
       "      <td>313373</td>\n",
       "      <td>24368</td>\n",
       "    </tr>\n",
       "    <tr>\n",
       "      <th>1</th>\n",
       "      <td>49857</td>\n",
       "      <td>4378</td>\n",
       "    </tr>\n",
       "  </tbody>\n",
       "</table>\n",
       "</div>"
      ],
      "text/plain": [
       "TOBACCO     0.0    1.0\n",
       "died                  \n",
       "0        313373  24368\n",
       "1         49857   4378"
      ]
     },
     "execution_count": 25,
     "metadata": {},
     "output_type": "execute_result"
    }
   ],
   "source": [
    "pd.crosstab(df_only_cov['died'], df_only_cov['TOBACCO'])"
   ]
  },
  {
   "cell_type": "code",
   "execution_count": 26,
   "id": "f446ed0c",
   "metadata": {},
   "outputs": [
    {
     "name": "stdout",
     "output_type": "stream",
     "text": [
      "24368\n",
      "4378\n"
     ]
    },
    {
     "data": {
      "text/plain": [
       "0.15229945035831072"
      ]
     },
     "execution_count": 26,
     "metadata": {},
     "output_type": "execute_result"
    }
   ],
   "source": [
    "surv_tobacco = len(df_only_cov[(df_only_cov['died'] == 0) & (df_only_cov['TOBACCO'] == 1)])\n",
    "print(surv_tobacco)\n",
    "died_tobacco = len(df_only_cov[(df_only_cov['died'] == 1) & (df_only_cov['TOBACCO'] == 1)])\n",
    "print(died_tobacco)\n",
    "P_tobacco = died_tobacco / (died_tobacco + surv_tobacco)\n",
    "P_tobacco"
   ]
  },
  {
   "cell_type": "code",
   "execution_count": 27,
   "id": "5668570e",
   "metadata": {},
   "outputs": [
    {
     "data": {
      "text/plain": [
       "{'Diabetes': 0.3265713549716641,\n",
       " 'COPD': 0.4136356222475942,\n",
       " 'Asthma': 0.10420668459469842,\n",
       " 'Inmsupr': 0.295411690760528,\n",
       " 'Hipertension': 0.30182211563526407,\n",
       " 'Other_Disease': 0.26701936514274305,\n",
       " 'Cardiovascular': 0.3358805549024218,\n",
       " 'Obesity': 0.18205928022755694,\n",
       " 'Renal_Chronic': 0.44693158953722334,\n",
       " 'Tobacco': 0.15229945035831072}"
      ]
     },
     "execution_count": 27,
     "metadata": {},
     "output_type": "execute_result"
    }
   ],
   "source": [
    "#stworzenie słownika z wyliczonymi stosunkami dla grupy covidowej\n",
    "cov_only_died_percentage = dict()\n",
    "cov_only_died_percentage['Diabetes'] = P_diab\n",
    "cov_only_died_percentage['COPD'] = P_copd\n",
    "cov_only_died_percentage['Asthma'] = P_asthma\n",
    "cov_only_died_percentage['Inmsupr'] = P_inmsupr\n",
    "cov_only_died_percentage['Hipertension'] = P_hiper\n",
    "cov_only_died_percentage['Other_Disease'] = P_other\n",
    "cov_only_died_percentage['Cardiovascular'] = P_cardio\n",
    "cov_only_died_percentage['Obesity'] = P_obesity\n",
    "cov_only_died_percentage['Renal_Chronic'] = P_renal\n",
    "cov_only_died_percentage['Tobacco'] = P_tobacco\n",
    "\n",
    "cov_only_died_percentage"
   ]
  },
  {
   "cell_type": "code",
   "execution_count": 28,
   "id": "c129823d",
   "metadata": {},
   "outputs": [],
   "source": [
    "#masowe wyliczenie stosunków dla każdej choroby/czynnika ryzyka w grupie niecovidowej\n",
    "surv_diab_ncov = len(df_not_cov[(df_not_cov['died'] == 0) & (df_not_cov['DIABETES'] == 1)])\n",
    "died_diab_ncov = len(df_not_cov[(df_not_cov['died'] == 1) & (df_not_cov['DIABETES'] == 1)])\n",
    "P_diab_ncov = died_diab_ncov / (died_diab_ncov + surv_diab_ncov)\n",
    "\n",
    "surv_copd_ncov = len(df_not_cov[(df_not_cov['died'] == 0) & (df_not_cov['COPD'] == 1)])\n",
    "died_copd_ncov = len(df_not_cov[(df_not_cov['died'] == 1) & (df_not_cov['COPD'] == 1)])\n",
    "P_copd_ncov = died_copd_ncov / (died_copd_ncov + surv_copd_ncov)\n",
    "\n",
    "surv_asthma_ncov = len(df_not_cov[(df_not_cov['died'] == 0) & (df_not_cov['ASTHMA'] == 1)])\n",
    "died_asthma_ncov = len(df_not_cov[(df_not_cov['died'] == 1) & (df_not_cov['ASTHMA'] == 1)])\n",
    "P_asthma_ncov = died_asthma_ncov / (died_asthma_ncov + surv_asthma_ncov)\n",
    "\n",
    "surv_inmsupr_ncov = len(df_not_cov[(df_not_cov['died'] == 0) & (df_not_cov['INMSUPR'] == 1)])\n",
    "died_inmsupr_ncov = len(df_not_cov[(df_not_cov['died'] == 1) & (df_not_cov['INMSUPR'] == 1)])\n",
    "P_inmsupr_ncov = died_inmsupr_ncov / (died_inmsupr_ncov + surv_inmsupr_ncov)\n",
    "\n",
    "surv_hiper_ncov = len(df_not_cov[(df_not_cov['died'] == 0) & (df_not_cov['HIPERTENSION'] == 1)])\n",
    "died_hiper_ncov = len(df_not_cov[(df_not_cov['died'] == 1) & (df_not_cov['HIPERTENSION'] == 1)])\n",
    "P_hiper_ncov = died_hiper_ncov / (died_hiper_ncov + surv_hiper_ncov)\n",
    "\n",
    "surv_other_ncov = len(df_not_cov[(df_not_cov['died'] == 0) & (df_not_cov['OTHER_DISEASE'] == 1)])\n",
    "died_other_ncov = len(df_not_cov[(df_not_cov['died'] == 1) & (df_not_cov['OTHER_DISEASE'] == 1)])\n",
    "P_other_ncov = died_other_ncov / (died_other_ncov + surv_other_ncov)\n",
    "\n",
    "surv_cardio_ncov = len(df_not_cov[(df_not_cov['died'] == 0) & (df_not_cov['CARDIOVASCULAR'] == 1)])\n",
    "died_cardio_ncov = len(df_not_cov[(df_not_cov['died'] == 1) & (df_not_cov['CARDIOVASCULAR'] == 1)])\n",
    "P_cardio_ncov = died_cardio_ncov / (died_cardio_ncov + surv_cardio_ncov)\n",
    "\n",
    "surv_obesity_ncov = len(df_not_cov[(df_not_cov['died'] == 0) & (df_not_cov['OBESITY'] == 1)])\n",
    "died_obesity_ncov = len(df_not_cov[(df_not_cov['died'] == 1) & (df_not_cov['OBESITY'] == 1)])\n",
    "P_obesity_ncov = died_obesity_ncov / (died_obesity_ncov + surv_obesity_ncov)\n",
    "\n",
    "surv_renal_ncov = len(df_not_cov[(df_not_cov['died'] == 0) & (df_not_cov['RENAL_CHRONIC'] == 1)])\n",
    "died_renal_ncov = len(df_not_cov[(df_not_cov['died'] == 1) & (df_not_cov['RENAL_CHRONIC'] == 1)])\n",
    "P_renal_ncov = died_renal_ncov / (died_renal_ncov + surv_renal_ncov)\n",
    "\n",
    "surv_tobacco_ncov = len(df_not_cov[(df_not_cov['died'] == 0) & (df_not_cov['TOBACCO'] == 1)])\n",
    "died_tobacco_ncov = len(df_not_cov[(df_not_cov['died'] == 1) & (df_not_cov['TOBACCO'] == 1)])\n",
    "P_tobacco_ncov = died_tobacco_ncov / (died_tobacco_ncov + surv_tobacco_ncov)"
   ]
  },
  {
   "cell_type": "code",
   "execution_count": 29,
   "id": "38feca6d",
   "metadata": {},
   "outputs": [
    {
     "data": {
      "text/plain": [
       "{'Diabetes': 0.12693439363817097,\n",
       " 'COPD': 0.16627477326167284,\n",
       " 'Asthma': 0.018667296786389415,\n",
       " 'Inmsupr': 0.12856534695615154,\n",
       " 'Hipertension': 0.10352205206916198,\n",
       " 'Other_Disease': 0.10381755632005327,\n",
       " 'Cardiovascular': 0.1286797684090353,\n",
       " 'Obesity': 0.046473419961166836,\n",
       " 'Renal_Chronic': 0.19658509861212564,\n",
       " 'Tobacco': 0.03987129015441586}"
      ]
     },
     "execution_count": 29,
     "metadata": {},
     "output_type": "execute_result"
    }
   ],
   "source": [
    "#dołączenie wyliczonych wartości do nowego słownika\n",
    "not_cov_died_percentage = dict()\n",
    "not_cov_died_percentage['Diabetes'] = P_diab_ncov\n",
    "not_cov_died_percentage['COPD'] = P_copd_ncov\n",
    "not_cov_died_percentage['Asthma'] = P_asthma_ncov\n",
    "not_cov_died_percentage['Inmsupr'] = P_inmsupr_ncov\n",
    "not_cov_died_percentage['Hipertension'] = P_hiper_ncov\n",
    "not_cov_died_percentage['Other_Disease'] = P_other_ncov\n",
    "not_cov_died_percentage['Cardiovascular'] = P_cardio_ncov\n",
    "not_cov_died_percentage['Obesity'] = P_obesity_ncov\n",
    "not_cov_died_percentage['Renal_Chronic'] = P_renal_ncov\n",
    "not_cov_died_percentage['Tobacco'] = P_tobacco_ncov\n",
    "\n",
    "not_cov_died_percentage"
   ]
  },
  {
   "cell_type": "code",
   "execution_count": 30,
   "id": "ab5801f8",
   "metadata": {},
   "outputs": [
    {
     "data": {
      "image/png": "[encoded data removed]",
      "text/plain": [
       "<Figure size 432x288 with 1 Axes>"
      ]
     },
     "metadata": {
      "needs_background": "light"
     },
     "output_type": "display_data"
    }
   ],
   "source": [
    "#wykres śmiertelności w poszczególnych grupach posiadających daną chorobę i jednocześnie chorujących na covid\n",
    "cov_names = list(cov_only_died_percentage.keys())\n",
    "cov_prob = list(cov_only_died_percentage.values())\n",
    "\n",
    "plt.bar(range(len(cov_names)), cov_prob, tick_label=cov_names)\n",
    "plt.ylim(0, 0.5)\n",
    "plt.xticks(rotation = 90)\n",
    "plt.show()"
   ]
  },
  {
   "cell_type": "code",
   "execution_count": 31,
   "id": "2c9557b7",
   "metadata": {},
   "outputs": [
    {
     "data": {
      "image/png": "[encoded data removed]",
      "text/plain": [
       "<Figure size 432x288 with 1 Axes>"
      ]
     },
     "metadata": {
      "needs_background": "light"
     },
     "output_type": "display_data"
    }
   ],
   "source": [
    "#wykres śmiertelności w poszczególnych grupach posiadających daną chorobę wśród osób BEZ covidu\n",
    "ncov_names = list(not_cov_died_percentage.keys())\n",
    "ncov_prob = list(not_cov_died_percentage.values())\n",
    "\n",
    "plt.bar(range(len(ncov_names)), ncov_prob, tick_label=ncov_names)\n",
    "plt.ylim(0, 0.5)\n",
    "plt.xticks(rotation = 90)\n",
    "plt.show()"
   ]
  },
  {
   "cell_type": "code",
   "execution_count": 32,
   "id": "f17a93c6",
   "metadata": {},
   "outputs": [
    {
     "data": {
      "text/plain": [
       "[2.5727570409526854,\n",
       " 2.48766312612341,\n",
       " 5.582312521579287,\n",
       " 2.2977551708492725,\n",
       " 2.9155345127202454,\n",
       " 2.5720058784620607,\n",
       " 2.6102048445934085,\n",
       " 3.9174926308346913,\n",
       " 2.273476436884194,\n",
       " 3.8197773327242865]"
      ]
     },
     "execution_count": 32,
     "metadata": {},
     "output_type": "execute_result"
    }
   ],
   "source": [
    "cov_mortality = list(cov_only_died_percentage.values()) #wartości śmiertelności dla grupy covidowej\n",
    "ncov_mortality = list(not_cov_died_percentage.values()) #wartości śmiertelności dla grupy niecovidowej\n",
    "\n",
    "#utworzenie listy wartości o ile śmiertelność dla danej choroby w grupie covidowej jest większa \n",
    "#w porównaniu z grupą niecovidową\n",
    "mult = list()\n",
    "for i in range(0, len(not_cov_died_percentage)):\n",
    "    mult.append(cov_mortality[i] / ncov_mortality[i])\n",
    "mult"
   ]
  },
  {
   "cell_type": "code",
   "execution_count": 33,
   "id": "c0f1dd87",
   "metadata": {
    "scrolled": true
   },
   "outputs": [
    {
     "data": {
      "image/png": "[encoded data removed]",
      "text/plain": [
       "<Figure size 432x288 with 1 Axes>"
      ]
     },
     "metadata": {
      "needs_background": "light"
     },
     "output_type": "display_data"
    }
   ],
   "source": [
    "#wykres przedstawiający wzrost śmiertelności wśród osób z stwierdzonym covidem\n",
    "plt.bar(range(len(ncov_names)), mult, tick_label=ncov_names)\n",
    "plt.xticks(rotation = 90)\n",
    "plt.show()"
   ]
  },
  {
   "cell_type": "code",
   "execution_count": 34,
   "id": "b5b78ad7",
   "metadata": {},
   "outputs": [],
   "source": [
    "#stworzenie tabel dla osób z covidem i kolejnej grupy wiekowej\n",
    "df_only_cov_1 = df_only_cov[df_only_cov['age_group'] == 1]\n",
    "df_only_cov_2 = df_only_cov[df_only_cov['age_group'] == 2]\n",
    "df_only_cov_3 = df_only_cov[df_only_cov['age_group'] == 3]\n",
    "df_only_cov_4 = df_only_cov[df_only_cov['age_group'] == 4]\n",
    "df_only_cov_5 = df_only_cov[df_only_cov['age_group'] == 5]"
   ]
  },
  {
   "cell_type": "code",
   "execution_count": 35,
   "id": "57246472",
   "metadata": {},
   "outputs": [
    {
     "data": {
      "text/plain": [
       "{'Diabetes': 0.06832298136645963,\n",
       " 'COPD': 0.0,\n",
       " 'Asthma': 0.0035778175313059034,\n",
       " 'Inmsupr': 0.10104529616724739,\n",
       " 'Hipertension': 0.09558823529411764,\n",
       " 'Other_Disease': 0.14148681055155876,\n",
       " 'Cardiovascular': 0.0784313725490196,\n",
       " 'Obesity': 0.02857142857142857,\n",
       " 'Renal_Chronic': 0.14736842105263157,\n",
       " 'Tobacco': 0.007075471698113208}"
      ]
     },
     "execution_count": 35,
     "metadata": {},
     "output_type": "execute_result"
    }
   ],
   "source": [
    "#wyliczenie śmiertelności wśród grup (tak jak wcześniej) ale dla 1wszej grupy wiekowej\n",
    "surv_diab_1 = len(df_only_cov_1[(df_only_cov_1['died'] == 0) & (df_only_cov_1['DIABETES'] == 1)])\n",
    "died_diab_1 = len(df_only_cov_1[(df_only_cov_1['died'] == 1) & (df_only_cov_1['DIABETES'] == 1)])\n",
    "P_diab_1 = died_diab_1 / (died_diab_1 + surv_diab_1)\n",
    "\n",
    "\n",
    "surv_copd_1 = len(df_only_cov_1[(df_only_cov_1['died'] == 0) & (df_only_cov_1['COPD'] == 1)])\n",
    "died_copd_1 = len(df_only_cov_1[(df_only_cov_1['died'] == 1) & (df_only_cov_1['COPD'] == 1)])\n",
    "P_copd_1 = died_copd_1 / (died_copd_1 + surv_copd_1)\n",
    "\n",
    "\n",
    "surv_asthma_1 = len(df_only_cov_1[(df_only_cov_1['died'] == 0) & (df_only_cov_1['ASTHMA'] == 1)])\n",
    "died_asthma_1 = len(df_only_cov_1[(df_only_cov_1['died'] == 1) & (df_only_cov_1['ASTHMA'] == 1)])\n",
    "P_asthma_1 = died_asthma_1 / (died_asthma_1 + surv_asthma_1)\n",
    "\n",
    "\n",
    "surv_inmuspr_1 = len(df_only_cov_1[(df_only_cov_1['died'] == 0) & (df_only_cov_1['INMSUPR'] == 1)])\n",
    "died_inmuspr_1 = len(df_only_cov_1[(df_only_cov_1['died'] == 1) & (df_only_cov_1['INMSUPR'] == 1)])\n",
    "P_inmuspr_1 = died_inmuspr_1 / (died_inmuspr_1 + surv_inmuspr_1)\n",
    "\n",
    "\n",
    "surv_hiper_1 = len(df_only_cov_1[(df_only_cov_1['died'] == 0) & (df_only_cov_1['HIPERTENSION'] == 1)])\n",
    "died_hiper_1 = len(df_only_cov_1[(df_only_cov_1['died'] == 1) & (df_only_cov_1['HIPERTENSION'] == 1)])\n",
    "P_hiper_1 = died_hiper_1 / (died_hiper_1 + surv_hiper_1)\n",
    "\n",
    "\n",
    "surv_other_1 = len(df_only_cov_1[(df_only_cov_1['died'] == 0) & (df_only_cov_1['OTHER_DISEASE'] == 1)])\n",
    "died_other_1 = len(df_only_cov_1[(df_only_cov_1['died'] == 1) & (df_only_cov_1['OTHER_DISEASE'] == 1)])\n",
    "P_other_1 = died_other_1 / (died_other_1 + surv_other_1)\n",
    "\n",
    "\n",
    "surv_cardio_1 = len(df_only_cov_1[(df_only_cov_1['died'] == 0) & (df_only_cov_1['CARDIOVASCULAR'] == 1)])\n",
    "died_cardio_1 = len(df_only_cov_1[(df_only_cov_1['died'] == 1) & (df_only_cov_1['CARDIOVASCULAR'] == 1)])\n",
    "P_cardio_1 = died_cardio_1 / (died_cardio_1 + surv_cardio_1)\n",
    "\n",
    "\n",
    "surv_obesity_1 = len(df_only_cov_1[(df_only_cov_1['died'] == 0) & (df_only_cov_1['OBESITY'] == 1)])\n",
    "died_obesity_1 = len(df_only_cov_1[(df_only_cov_1['died'] == 1) & (df_only_cov_1['OBESITY'] == 1)])\n",
    "P_obesity_1 = died_obesity_1 / (died_obesity_1 + surv_obesity_1)\n",
    "\n",
    "\n",
    "surv_renal_1 = len(df_only_cov_1[(df_only_cov_1['died'] == 0) & (df_only_cov_1['RENAL_CHRONIC'] == 1)])\n",
    "died_renal_1 = len(df_only_cov_1[(df_only_cov_1['died'] == 1) & (df_only_cov_1['RENAL_CHRONIC'] == 1)])\n",
    "P_renal_1 = died_renal_1 / (died_renal_1 + surv_renal_1)\n",
    "\n",
    "\n",
    "surv_tobacco_1 = len(df_only_cov_1[(df_only_cov_1['died'] == 0) & (df_only_cov_1['TOBACCO'] == 1)])\n",
    "died_tobacco_1 = len(df_only_cov_1[(df_only_cov_1['died'] == 1) & (df_only_cov_1['TOBACCO'] == 1)])\n",
    "P_tobacco_1 = died_tobacco_1 / (died_tobacco_1 + surv_tobacco_1)\n",
    "\n",
    "\n",
    "cov_only_died_percentage_1 = dict()\n",
    "cov_only_died_percentage_1['Diabetes'] = P_diab_1\n",
    "cov_only_died_percentage_1['COPD'] = P_copd_1\n",
    "cov_only_died_percentage_1['Asthma'] = P_asthma_1\n",
    "cov_only_died_percentage_1['Inmsupr'] = P_inmuspr_1\n",
    "cov_only_died_percentage_1['Hipertension'] = P_hiper_1\n",
    "cov_only_died_percentage_1['Other_Disease'] = P_other_1\n",
    "cov_only_died_percentage_1['Cardiovascular'] = P_cardio_1\n",
    "cov_only_died_percentage_1['Obesity'] = P_obesity_1\n",
    "cov_only_died_percentage_1['Renal_Chronic'] = P_renal_1\n",
    "cov_only_died_percentage_1['Tobacco'] = P_tobacco_1\n",
    "\n",
    "cov_only_died_percentage_1"
   ]
  },
  {
   "cell_type": "code",
   "execution_count": 36,
   "id": "1998f832",
   "metadata": {},
   "outputs": [
    {
     "data": {
      "text/plain": [
       "{'Diabetes': 0.12444992078859356,\n",
       " 'COPD': 0.09921671018276762,\n",
       " 'Asthma': 0.026297736107935055,\n",
       " 'Inmsupr': 0.14804202483285578,\n",
       " 'Hipertension': 0.08904465212876428,\n",
       " 'Other_Disease': 0.06929955290611028,\n",
       " 'Cardiovascular': 0.07854984894259819,\n",
       " 'Obesity': 0.05121670503123972,\n",
       " 'Renal_Chronic': 0.21484098939929328,\n",
       " 'Tobacco': 0.022961203483768806}"
      ]
     },
     "execution_count": 36,
     "metadata": {},
     "output_type": "execute_result"
    }
   ],
   "source": [
    "surv_diab_2 = len(df_only_cov_2[(df_only_cov_2['died'] == 0) & (df_only_cov_2['DIABETES'] == 1)])\n",
    "died_diab_2 = len(df_only_cov_2[(df_only_cov_2['died'] == 1) & (df_only_cov_2['DIABETES'] == 1)])\n",
    "P_diab_2 = died_diab_2 / (died_diab_2 + surv_diab_2)\n",
    "\n",
    "\n",
    "surv_copd_2 = len(df_only_cov_2[(df_only_cov_2['died'] == 0) & (df_only_cov_2['COPD'] == 1)])\n",
    "died_copd_2 = len(df_only_cov_2[(df_only_cov_2['died'] == 1) & (df_only_cov_2['COPD'] == 1)])\n",
    "P_copd_2 = died_copd_2 / (died_copd_2 + surv_copd_2)\n",
    "\n",
    "\n",
    "surv_asthma_2 = len(df_only_cov_2[(df_only_cov_2['died'] == 0) & (df_only_cov_2['ASTHMA'] == 1)])\n",
    "died_asthma_2 = len(df_only_cov_2[(df_only_cov_2['died'] == 1) & (df_only_cov_2['ASTHMA'] == 1)])\n",
    "P_asthma_2 = died_asthma_2 / (died_asthma_2 + surv_asthma_2)\n",
    "\n",
    "\n",
    "surv_inmuspr_2 = len(df_only_cov_2[(df_only_cov_2['died'] == 0) & (df_only_cov_2['INMSUPR'] == 1)])\n",
    "died_inmuspr_2 = len(df_only_cov_2[(df_only_cov_2['died'] == 1) & (df_only_cov_2['INMSUPR'] == 1)])\n",
    "P_inmuspr_2 = died_inmuspr_2 / (died_inmuspr_2 + surv_inmuspr_2)\n",
    "\n",
    "\n",
    "surv_hiper_2 = len(df_only_cov_2[(df_only_cov_2['died'] == 0) & (df_only_cov_2['HIPERTENSION'] == 1)])\n",
    "died_hiper_2 = len(df_only_cov_2[(df_only_cov_2['died'] == 1) & (df_only_cov_2['HIPERTENSION'] == 1)])\n",
    "P_hiper_2 = died_hiper_2 / (died_hiper_2 + surv_hiper_2)\n",
    "\n",
    "\n",
    "surv_other_2 = len(df_only_cov_2[(df_only_cov_2['died'] == 0) & (df_only_cov_2['OTHER_DISEASE'] == 1)])\n",
    "died_other_2 = len(df_only_cov_2[(df_only_cov_2['died'] == 1) & (df_only_cov_2['OTHER_DISEASE'] == 1)])\n",
    "P_other_2 = died_other_2 / (died_other_2 + surv_other_2)\n",
    "\n",
    "\n",
    "surv_cardio_2 = len(df_only_cov_2[(df_only_cov_2['died'] == 0) & (df_only_cov_2['CARDIOVASCULAR'] == 1)])\n",
    "died_cardio_2 = len(df_only_cov_2[(df_only_cov_2['died'] == 1) & (df_only_cov_2['CARDIOVASCULAR'] == 1)])\n",
    "P_cardio_2 = died_cardio_2 / (died_cardio_2 + surv_cardio_2)\n",
    "\n",
    "\n",
    "surv_obesity_2 = len(df_only_cov_2[(df_only_cov_2['died'] == 0) & (df_only_cov_2['OBESITY'] == 1)])\n",
    "died_obesity_2 = len(df_only_cov_2[(df_only_cov_2['died'] == 1) & (df_only_cov_2['OBESITY'] == 1)])\n",
    "P_obesity_2 = died_obesity_2 / (died_obesity_2 + surv_obesity_2)\n",
    "\n",
    "\n",
    "surv_renal_2 = len(df_only_cov_2[(df_only_cov_2['died'] == 0) & (df_only_cov_2['RENAL_CHRONIC'] == 1)])\n",
    "died_renal_2 = len(df_only_cov_2[(df_only_cov_2['died'] == 1) & (df_only_cov_2['RENAL_CHRONIC'] == 1)])\n",
    "P_renal_2 = died_renal_2 / (died_renal_2 + surv_renal_2)\n",
    "\n",
    "\n",
    "surv_tobacco_2 = len(df_only_cov_2[(df_only_cov_2['died'] == 0) & (df_only_cov_2['TOBACCO'] == 1)])\n",
    "died_tobacco_2 = len(df_only_cov_2[(df_only_cov_2['died'] == 1) & (df_only_cov_2['TOBACCO'] == 1)])\n",
    "P_tobacco_2 = died_tobacco_2 / (died_tobacco_2 + surv_tobacco_2)\n",
    "\n",
    "\n",
    "cov_only_died_percentage_2 = dict()\n",
    "cov_only_died_percentage_2['Diabetes'] = P_diab_2\n",
    "cov_only_died_percentage_2['COPD'] = P_copd_2\n",
    "cov_only_died_percentage_2['Asthma'] = P_asthma_2\n",
    "cov_only_died_percentage_2['Inmsupr'] = P_inmuspr_2\n",
    "cov_only_died_percentage_2['Hipertension'] = P_hiper_2\n",
    "cov_only_died_percentage_2['Other_Disease'] = P_other_2\n",
    "cov_only_died_percentage_2['Cardiovascular'] = P_cardio_2\n",
    "cov_only_died_percentage_2['Obesity'] = P_obesity_2\n",
    "cov_only_died_percentage_2['Renal_Chronic'] = P_renal_2\n",
    "cov_only_died_percentage_2['Tobacco'] = P_tobacco_2\n",
    "\n",
    "cov_only_died_percentage_2"
   ]
  },
  {
   "cell_type": "code",
   "execution_count": 37,
   "id": "32aa7605",
   "metadata": {},
   "outputs": [
    {
     "data": {
      "text/plain": [
       "{'Diabetes': 0.24878847413228553,\n",
       " 'COPD': 0.2905982905982906,\n",
       " 'Asthma': 0.11692458855318104,\n",
       " 'Inmsupr': 0.2598870056497175,\n",
       " 'Hipertension': 0.21137473038937452,\n",
       " 'Other_Disease': 0.22602065912444663,\n",
       " 'Cardiovascular': 0.22470341939986044,\n",
       " 'Obesity': 0.17722956835789597,\n",
       " 'Renal_Chronic': 0.4351023017902813,\n",
       " 'Tobacco': 0.1526422567867839}"
      ]
     },
     "execution_count": 37,
     "metadata": {},
     "output_type": "execute_result"
    }
   ],
   "source": [
    "surv_diab_3 = len(df_only_cov_3[(df_only_cov_3['died'] == 0) & (df_only_cov_3['DIABETES'] == 1)])\n",
    "died_diab_3 = len(df_only_cov_3[(df_only_cov_3['died'] == 1) & (df_only_cov_3['DIABETES'] == 1)])\n",
    "P_diab_3 = died_diab_3 / (died_diab_3 + surv_diab_3)\n",
    "\n",
    "\n",
    "surv_copd_3 = len(df_only_cov_3[(df_only_cov_3['died'] == 0) & (df_only_cov_3['COPD'] == 1)])\n",
    "died_copd_3 = len(df_only_cov_3[(df_only_cov_3['died'] == 1) & (df_only_cov_3['COPD'] == 1)])\n",
    "P_copd_3 = died_copd_3 / (died_copd_3 + surv_copd_3)\n",
    "\n",
    "\n",
    "surv_asthma_3 = len(df_only_cov_3[(df_only_cov_3['died'] == 0) & (df_only_cov_3['ASTHMA'] == 1)])\n",
    "died_asthma_3 = len(df_only_cov_3[(df_only_cov_3['died'] == 1) & (df_only_cov_3['ASTHMA'] == 1)])\n",
    "P_asthma_3 = died_asthma_3 / (died_asthma_3 + surv_asthma_3)\n",
    "\n",
    "\n",
    "surv_inmuspr_3 = len(df_only_cov_3[(df_only_cov_3['died'] == 0) & (df_only_cov_3['INMSUPR'] == 1)])\n",
    "died_inmuspr_3 = len(df_only_cov_3[(df_only_cov_3['died'] == 1) & (df_only_cov_3['INMSUPR'] == 1)])\n",
    "P_inmuspr_3 = died_inmuspr_3 / (died_inmuspr_3 + surv_inmuspr_3)\n",
    "\n",
    "\n",
    "surv_hiper_3 = len(df_only_cov_3[(df_only_cov_3['died'] == 0) & (df_only_cov_3['HIPERTENSION'] == 1)])\n",
    "died_hiper_3 = len(df_only_cov_3[(df_only_cov_3['died'] == 1) & (df_only_cov_3['HIPERTENSION'] == 1)])\n",
    "P_hiper_3 = died_hiper_3 / (died_hiper_3 + surv_hiper_3)\n",
    "\n",
    "\n",
    "surv_other_3 = len(df_only_cov_3[(df_only_cov_3['died'] == 0) & (df_only_cov_3['OTHER_DISEASE'] == 1)])\n",
    "died_other_3 = len(df_only_cov_3[(df_only_cov_3['died'] == 1) & (df_only_cov_3['OTHER_DISEASE'] == 1)])\n",
    "P_other_3 = died_other_3 / (died_other_3 + surv_other_3)\n",
    "\n",
    "\n",
    "surv_cardio_3 = len(df_only_cov_3[(df_only_cov_3['died'] == 0) & (df_only_cov_3['CARDIOVASCULAR'] == 1)])\n",
    "died_cardio_3 = len(df_only_cov_3[(df_only_cov_3['died'] == 1) & (df_only_cov_3['CARDIOVASCULAR'] == 1)])\n",
    "P_cardio_3 = died_cardio_3 / (died_cardio_3 + surv_cardio_3)\n",
    "\n",
    "\n",
    "surv_obesity_3 = len(df_only_cov_3[(df_only_cov_3['died'] == 0) & (df_only_cov_3['OBESITY'] == 1)])\n",
    "died_obesity_3 = len(df_only_cov_3[(df_only_cov_3['died'] == 1) & (df_only_cov_3['OBESITY'] == 1)])\n",
    "P_obesity_3 = died_obesity_3 / (died_obesity_3 + surv_obesity_3)\n",
    "\n",
    "\n",
    "surv_renal_3 = len(df_only_cov_3[(df_only_cov_3['died'] == 0) & (df_only_cov_3['RENAL_CHRONIC'] == 1)])\n",
    "died_renal_3 = len(df_only_cov_3[(df_only_cov_3['died'] == 1) & (df_only_cov_3['RENAL_CHRONIC'] == 1)])\n",
    "P_renal_3 = died_renal_3 / (died_renal_3 + surv_renal_3)\n",
    "\n",
    "\n",
    "surv_tobacco_3 = len(df_only_cov_3[(df_only_cov_3['died'] == 0) & (df_only_cov_3['TOBACCO'] == 1)])\n",
    "died_tobacco_3 = len(df_only_cov_3[(df_only_cov_3['died'] == 1) & (df_only_cov_3['TOBACCO'] == 1)])\n",
    "P_tobacco_3 = died_tobacco_3 / (died_tobacco_3 + surv_tobacco_3)\n",
    "\n",
    "\n",
    "cov_only_died_percentage_3 = dict()\n",
    "cov_only_died_percentage_3['Diabetes'] = P_diab_3\n",
    "cov_only_died_percentage_3['COPD'] = P_copd_3\n",
    "cov_only_died_percentage_3['Asthma'] = P_asthma_3\n",
    "cov_only_died_percentage_3['Inmsupr'] = P_inmuspr_3\n",
    "cov_only_died_percentage_3['Hipertension'] = P_hiper_3\n",
    "cov_only_died_percentage_3['Other_Disease'] = P_other_3\n",
    "cov_only_died_percentage_3['Cardiovascular'] = P_cardio_3\n",
    "cov_only_died_percentage_3['Obesity'] = P_obesity_3\n",
    "cov_only_died_percentage_3['Renal_Chronic'] = P_renal_3\n",
    "cov_only_died_percentage_3['Tobacco'] = P_tobacco_3\n",
    "\n",
    "cov_only_died_percentage_3"
   ]
  },
  {
   "cell_type": "code",
   "execution_count": 38,
   "id": "5b9b2d56",
   "metadata": {},
   "outputs": [
    {
     "data": {
      "text/plain": [
       "{'Diabetes': 0.4545219526907665,\n",
       " 'COPD': 0.48321263989466756,\n",
       " 'Asthma': 0.33886255924170616,\n",
       " 'Inmsupr': 0.4681992337164751,\n",
       " 'Hipertension': 0.4294160107242292,\n",
       " 'Other_Disease': 0.5078756917837378,\n",
       " 'Cardiovascular': 0.4530771372876636,\n",
       " 'Obesity': 0.4381139489194499,\n",
       " 'Renal_Chronic': 0.5600138360428918,\n",
       " 'Tobacco': 0.4528423772609819}"
      ]
     },
     "execution_count": 38,
     "metadata": {},
     "output_type": "execute_result"
    }
   ],
   "source": [
    "surv_diab_4 = len(df_only_cov_4[(df_only_cov_4['died'] == 0) & (df_only_cov_4['DIABETES'] == 1)])\n",
    "died_diab_4 = len(df_only_cov_4[(df_only_cov_4['died'] == 1) & (df_only_cov_4['DIABETES'] == 1)])\n",
    "P_diab_4 = died_diab_4 / (died_diab_4 + surv_diab_4)\n",
    "\n",
    "\n",
    "surv_copd_4 = len(df_only_cov_4[(df_only_cov_4['died'] == 0) & (df_only_cov_4['COPD'] == 1)])\n",
    "died_copd_4 = len(df_only_cov_4[(df_only_cov_4['died'] == 1) & (df_only_cov_4['COPD'] == 1)])\n",
    "P_copd_4 = died_copd_4 / (died_copd_4 + surv_copd_4)\n",
    "\n",
    "\n",
    "surv_asthma_4 = len(df_only_cov_4[(df_only_cov_4['died'] == 0) & (df_only_cov_4['ASTHMA'] == 1)])\n",
    "died_asthma_4 = len(df_only_cov_4[(df_only_cov_4['died'] == 1) & (df_only_cov_4['ASTHMA'] == 1)])\n",
    "P_asthma_4 = died_asthma_4 / (died_asthma_4 + surv_asthma_4)\n",
    "\n",
    "\n",
    "surv_inmuspr_4 = len(df_only_cov_4[(df_only_cov_4['died'] == 0) & (df_only_cov_4['INMSUPR'] == 1)])\n",
    "died_inmuspr_4 = len(df_only_cov_4[(df_only_cov_4['died'] == 1) & (df_only_cov_4['INMSUPR'] == 1)])\n",
    "P_inmuspr_4 = died_inmuspr_4 / (died_inmuspr_4 + surv_inmuspr_4)\n",
    "\n",
    "\n",
    "surv_hiper_4 = len(df_only_cov_4[(df_only_cov_4['died'] == 0) & (df_only_cov_4['HIPERTENSION'] == 1)])\n",
    "died_hiper_4 = len(df_only_cov_4[(df_only_cov_4['died'] == 1) & (df_only_cov_4['HIPERTENSION'] == 1)])\n",
    "P_hiper_4 = died_hiper_4 / (died_hiper_4 + surv_hiper_4)\n",
    "\n",
    "\n",
    "surv_other_4 = len(df_only_cov_4[(df_only_cov_4['died'] == 0) & (df_only_cov_4['OTHER_DISEASE'] == 1)])\n",
    "died_other_4 = len(df_only_cov_4[(df_only_cov_4['died'] == 1) & (df_only_cov_4['OTHER_DISEASE'] == 1)])\n",
    "P_other_4 = died_other_4 / (died_other_4 + surv_other_4)\n",
    "\n",
    "\n",
    "surv_cardio_4 = len(df_only_cov_4[(df_only_cov_4['died'] == 0) & (df_only_cov_4['CARDIOVASCULAR'] == 1)])\n",
    "died_cardio_4 = len(df_only_cov_4[(df_only_cov_4['died'] == 1) & (df_only_cov_4['CARDIOVASCULAR'] == 1)])\n",
    "P_cardio_4 = died_cardio_4 / (died_cardio_4 + surv_cardio_4)\n",
    "\n",
    "\n",
    "surv_obesity_4 = len(df_only_cov_4[(df_only_cov_4['died'] == 0) & (df_only_cov_4['OBESITY'] == 1)])\n",
    "died_obesity_4 = len(df_only_cov_4[(df_only_cov_4['died'] == 1) & (df_only_cov_4['OBESITY'] == 1)])\n",
    "P_obesity_4 = died_obesity_4 / (died_obesity_4 + surv_obesity_4)\n",
    "\n",
    "\n",
    "surv_renal_4 = len(df_only_cov_4[(df_only_cov_4['died'] == 0) & (df_only_cov_4['RENAL_CHRONIC'] == 1)])\n",
    "died_renal_4 = len(df_only_cov_4[(df_only_cov_4['died'] == 1) & (df_only_cov_4['RENAL_CHRONIC'] == 1)])\n",
    "P_renal_4 = died_renal_4 / (died_renal_4 + surv_renal_4)\n",
    "\n",
    "\n",
    "surv_tobacco_4 = len(df_only_cov_4[(df_only_cov_4['died'] == 0) & (df_only_cov_4['TOBACCO'] == 1)])\n",
    "died_tobacco_4 = len(df_only_cov_4[(df_only_cov_4['died'] == 1) & (df_only_cov_4['TOBACCO'] == 1)])\n",
    "P_tobacco_4 = died_tobacco_4 / (died_tobacco_4 + surv_tobacco_4)\n",
    "\n",
    "\n",
    "cov_only_died_percentage_4 = dict()\n",
    "cov_only_died_percentage_4['Diabetes'] = P_diab_4\n",
    "cov_only_died_percentage_4['COPD'] = P_copd_4\n",
    "cov_only_died_percentage_4['Asthma'] = P_asthma_4\n",
    "cov_only_died_percentage_4['Inmsupr'] = P_inmuspr_4\n",
    "cov_only_died_percentage_4['Hipertension'] = P_hiper_4\n",
    "cov_only_died_percentage_4['Other_Disease'] = P_other_4\n",
    "cov_only_died_percentage_4['Cardiovascular'] = P_cardio_4\n",
    "cov_only_died_percentage_4['Obesity'] = P_obesity_4\n",
    "cov_only_died_percentage_4['Renal_Chronic'] = P_renal_4\n",
    "cov_only_died_percentage_4['Tobacco'] = P_tobacco_4\n",
    "\n",
    "cov_only_died_percentage_4"
   ]
  },
  {
   "cell_type": "code",
   "execution_count": 39,
   "id": "b61480bc",
   "metadata": {},
   "outputs": [
    {
     "data": {
      "text/plain": [
       "{'Diabetes': 0.5628718762395875,\n",
       " 'COPD': 0.5537806176783813,\n",
       " 'Asthma': 0.4405594405594406,\n",
       " 'Inmsupr': 0.5828877005347594,\n",
       " 'Hipertension': 0.5525795828759604,\n",
       " 'Other_Disease': 0.6334661354581673,\n",
       " 'Cardiovascular': 0.5492801771871539,\n",
       " 'Obesity': 0.5482233502538071,\n",
       " 'Renal_Chronic': 0.6052009456264775,\n",
       " 'Tobacco': 0.5767575322812052}"
      ]
     },
     "execution_count": 39,
     "metadata": {},
     "output_type": "execute_result"
    }
   ],
   "source": [
    "surv_diab_5 = len(df_only_cov_5[(df_only_cov_5['died'] == 0) & (df_only_cov_5['DIABETES'] == 1)])\n",
    "died_diab_5 = len(df_only_cov_5[(df_only_cov_5['died'] == 1) & (df_only_cov_5['DIABETES'] == 1)])\n",
    "P_diab_5 = died_diab_5 / (died_diab_5 + surv_diab_5)\n",
    "\n",
    "\n",
    "surv_copd_5 = len(df_only_cov_5[(df_only_cov_5['died'] == 0) & (df_only_cov_5['COPD'] == 1)])\n",
    "died_copd_5 = len(df_only_cov_5[(df_only_cov_5['died'] == 1) & (df_only_cov_5['COPD'] == 1)])\n",
    "P_copd_5 = died_copd_5 / (died_copd_5 + surv_copd_5)\n",
    "\n",
    "\n",
    "surv_asthma_5 = len(df_only_cov_5[(df_only_cov_5['died'] == 0) & (df_only_cov_5['ASTHMA'] == 1)])\n",
    "died_asthma_5 = len(df_only_cov_5[(df_only_cov_5['died'] == 1) & (df_only_cov_5['ASTHMA'] == 1)])\n",
    "P_asthma_5 = died_asthma_5 / (died_asthma_5 + surv_asthma_5)\n",
    "\n",
    "\n",
    "surv_inmuspr_5 = len(df_only_cov_5[(df_only_cov_5['died'] == 0) & (df_only_cov_5['INMSUPR'] == 1)])\n",
    "died_inmuspr_5 = len(df_only_cov_5[(df_only_cov_5['died'] == 1) & (df_only_cov_5['INMSUPR'] == 1)])\n",
    "P_inmuspr_5 = died_inmuspr_5 / (died_inmuspr_5 + surv_inmuspr_5)\n",
    "\n",
    "\n",
    "surv_hiper_5 = len(df_only_cov_5[(df_only_cov_5['died'] == 0) & (df_only_cov_5['HIPERTENSION'] == 1)])\n",
    "died_hiper_5 = len(df_only_cov_5[(df_only_cov_5['died'] == 1) & (df_only_cov_5['HIPERTENSION'] == 1)])\n",
    "P_hiper_5 = died_hiper_5 / (died_hiper_5 + surv_hiper_5)\n",
    "\n",
    "\n",
    "surv_other_5 = len(df_only_cov_5[(df_only_cov_5['died'] == 0) & (df_only_cov_5['OTHER_DISEASE'] == 1)])\n",
    "died_other_5 = len(df_only_cov_5[(df_only_cov_5['died'] == 1) & (df_only_cov_5['OTHER_DISEASE'] == 1)])\n",
    "P_other_5 = died_other_5 / (died_other_5 + surv_other_5)\n",
    "\n",
    "\n",
    "surv_cardio_5 = len(df_only_cov_5[(df_only_cov_5['died'] == 0) & (df_only_cov_5['CARDIOVASCULAR'] == 1)])\n",
    "died_cardio_5 = len(df_only_cov_5[(df_only_cov_5['died'] == 1) & (df_only_cov_5['CARDIOVASCULAR'] == 1)])\n",
    "P_cardio_5 = died_cardio_5 / (died_cardio_5 + surv_cardio_5)\n",
    "\n",
    "\n",
    "surv_obesity_5 = len(df_only_cov_5[(df_only_cov_5['died'] == 0) & (df_only_cov_5['OBESITY'] == 1)])\n",
    "died_obesity_5 = len(df_only_cov_5[(df_only_cov_5['died'] == 1) & (df_only_cov_5['OBESITY'] == 1)])\n",
    "P_obesity_5 = died_obesity_5 / (died_obesity_5 + surv_obesity_5)\n",
    "\n",
    "\n",
    "surv_renal_5 = len(df_only_cov_5[(df_only_cov_5['died'] == 0) & (df_only_cov_5['RENAL_CHRONIC'] == 1)])\n",
    "died_renal_5 = len(df_only_cov_5[(df_only_cov_5['died'] == 1) & (df_only_cov_5['RENAL_CHRONIC'] == 1)])\n",
    "P_renal_5 = died_renal_5 / (died_renal_5 + surv_renal_5)\n",
    "\n",
    "\n",
    "surv_tobacco_5 = len(df_only_cov_5[(df_only_cov_5['died'] == 0) & (df_only_cov_5['TOBACCO'] == 1)])\n",
    "died_tobacco_5 = len(df_only_cov_5[(df_only_cov_5['died'] == 1) & (df_only_cov_5['TOBACCO'] == 1)])\n",
    "P_tobacco_5 = died_tobacco_5 / (died_tobacco_5 + surv_tobacco_5)\n",
    "\n",
    "\n",
    "cov_only_died_percentage_5 = dict()\n",
    "cov_only_died_percentage_5['Diabetes'] = P_diab_5\n",
    "cov_only_died_percentage_5['COPD'] = P_copd_5\n",
    "cov_only_died_percentage_5['Asthma'] = P_asthma_5\n",
    "cov_only_died_percentage_5['Inmsupr'] = P_inmuspr_5\n",
    "cov_only_died_percentage_5['Hipertension'] = P_hiper_5\n",
    "cov_only_died_percentage_5['Other_Disease'] = P_other_5\n",
    "cov_only_died_percentage_5['Cardiovascular'] = P_cardio_5\n",
    "cov_only_died_percentage_5['Obesity'] = P_obesity_5\n",
    "cov_only_died_percentage_5['Renal_Chronic'] = P_renal_5\n",
    "cov_only_died_percentage_5['Tobacco'] = P_tobacco_5\n",
    "\n",
    "cov_only_died_percentage_5"
   ]
  },
  {
   "cell_type": "code",
   "execution_count": 40,
   "id": "69ee8b6a",
   "metadata": {},
   "outputs": [],
   "source": [
    "#stworzenie tabel dla osób niecovidowych w podziale na grupy wiekowe\n",
    "df_not_cov_1 = df_not_cov[df_not_cov['age_group'] == 1]\n",
    "df_not_cov_2 = df_not_cov[df_not_cov['age_group'] == 2]\n",
    "df_not_cov_3 = df_not_cov[df_not_cov['age_group'] == 3]\n",
    "df_not_cov_4 = df_not_cov[df_not_cov['age_group'] == 4]\n",
    "df_not_cov_5 = df_not_cov[df_not_cov['age_group'] == 5]"
   ]
  },
  {
   "cell_type": "code",
   "execution_count": 41,
   "id": "81bc61e0",
   "metadata": {},
   "outputs": [
    {
     "data": {
      "text/plain": [
       "{'Diabetes': 0.04477611940298507,\n",
       " 'COPD': 0.05319148936170213,\n",
       " 'Asthma': 0.00784799669558034,\n",
       " 'Inmsupr': 0.06981664315937941,\n",
       " 'Hipertension': 0.06067961165048544,\n",
       " 'Other_Disease': 0.06287425149700598,\n",
       " 'Cardiovascular': 0.08839779005524862,\n",
       " 'Obesity': 0.012459621596677434,\n",
       " 'Renal_Chronic': 0.06510416666666667,\n",
       " 'Tobacco': 0.0068073519400953025}"
      ]
     },
     "execution_count": 41,
     "metadata": {},
     "output_type": "execute_result"
    }
   ],
   "source": [
    "surv_diab_ncov_1 = len(df_not_cov_1[(df_not_cov_1['died'] == 0) & (df_not_cov_1['DIABETES'] == 1)])\n",
    "died_diab_ncov_1 = len(df_not_cov_1[(df_not_cov_1['died'] == 1) & (df_not_cov_1['DIABETES'] == 1)])\n",
    "P_diab_ncov_1 = died_diab_ncov_1 / (died_diab_ncov_1 + surv_diab_ncov_1)\n",
    "\n",
    "\n",
    "surv_copd_ncov_1 = len(df_not_cov_1[(df_not_cov_1['died'] == 0) & (df_not_cov_1['COPD'] == 1)])\n",
    "died_copd_ncov_1 = len(df_not_cov_1[(df_not_cov_1['died'] == 1) & (df_not_cov_1['COPD'] == 1)])\n",
    "P_copd_ncov_1 = died_copd_ncov_1 / (died_copd_ncov_1 + surv_copd_ncov_1)\n",
    "\n",
    "\n",
    "surv_asthma_ncov_1 = len(df_not_cov_1[(df_not_cov_1['died'] == 0) & (df_not_cov_1['ASTHMA'] == 1)])\n",
    "died_asthma_ncov_1 = len(df_not_cov_1[(df_not_cov_1['died'] == 1) & (df_not_cov_1['ASTHMA'] == 1)])\n",
    "P_asthma_ncov_1 = died_asthma_ncov_1 / (died_asthma_ncov_1 + surv_asthma_ncov_1)\n",
    "\n",
    "\n",
    "surv_inmuspr_ncov_1 = len(df_not_cov_1[(df_not_cov_1['died'] == 0) & (df_not_cov_1['INMSUPR'] == 1)])\n",
    "died_inmuspr_ncov_1 = len(df_not_cov_1[(df_not_cov_1['died'] == 1) & (df_not_cov_1['INMSUPR'] == 1)])\n",
    "P_inmuspr_ncov_1 = died_inmuspr_ncov_1 / (died_inmuspr_ncov_1 + surv_inmuspr_ncov_1)\n",
    "\n",
    "\n",
    "surv_hiper_ncov_1 = len(df_not_cov_1[(df_not_cov_1['died'] == 0) & (df_not_cov_1['HIPERTENSION'] == 1)])\n",
    "died_hiper_ncov_1 = len(df_not_cov_1[(df_not_cov_1['died'] == 1) & (df_not_cov_1['HIPERTENSION'] == 1)])\n",
    "P_hiper_ncov_1 = died_hiper_ncov_1 / (died_hiper_ncov_1 + surv_hiper_ncov_1)\n",
    "\n",
    "\n",
    "surv_other_ncov_1 = len(df_not_cov_1[(df_not_cov_1['died'] == 0) & (df_not_cov_1['OTHER_DISEASE'] == 1)])\n",
    "died_other_ncov_1 = len(df_not_cov_1[(df_not_cov_1['died'] == 1) & (df_not_cov_1['OTHER_DISEASE'] == 1)])\n",
    "P_other_ncov_1 = died_other_ncov_1 / (died_other_ncov_1 + surv_other_ncov_1)\n",
    "\n",
    "\n",
    "surv_cardio_ncov_1 = len(df_not_cov_1[(df_not_cov_1['died'] == 0) & (df_not_cov_1['CARDIOVASCULAR'] == 1)])\n",
    "died_cardio_ncov_1 = len(df_not_cov_1[(df_not_cov_1['died'] == 1) & (df_not_cov_1['CARDIOVASCULAR'] == 1)])\n",
    "P_cardio_ncov_1 = died_cardio_ncov_1 / (died_cardio_ncov_1 + surv_cardio_ncov_1)\n",
    "\n",
    "\n",
    "surv_obesity_ncov_1 = len(df_not_cov_1[(df_not_cov_1['died'] == 0) & (df_not_cov_1['OBESITY'] == 1)])\n",
    "died_obesity_ncov_1 = len(df_not_cov_1[(df_not_cov_1['died'] == 1) & (df_not_cov_1['OBESITY'] == 1)])\n",
    "P_obesity_ncov_1 = died_obesity_ncov_1 / (died_obesity_ncov_1 + surv_obesity_ncov_1)\n",
    "\n",
    "\n",
    "surv_renal_ncov_1 = len(df_not_cov_1[(df_not_cov_1['died'] == 0) & (df_not_cov_1['RENAL_CHRONIC'] == 1)])\n",
    "died_renal_ncov_1 = len(df_not_cov_1[(df_not_cov_1['died'] == 1) & (df_not_cov_1['RENAL_CHRONIC'] == 1)])\n",
    "P_renal_ncov_1 = died_renal_ncov_1 / (died_renal_ncov_1 + surv_renal_ncov_1)\n",
    "\n",
    "\n",
    "surv_tobacco_ncov_1 = len(df_not_cov_1[(df_not_cov_1['died'] == 0) & (df_not_cov_1['TOBACCO'] == 1)])\n",
    "died_tobacco_ncov_1 = len(df_not_cov_1[(df_not_cov_1['died'] == 1) & (df_not_cov_1['TOBACCO'] == 1)])\n",
    "P_tobacco_ncov_1 = died_tobacco_ncov_1 / (died_tobacco_ncov_1 + surv_tobacco_ncov_1)\n",
    "\n",
    "\n",
    "not_cov_died_percentage_1 = dict()\n",
    "not_cov_died_percentage_1['Diabetes'] = P_diab_ncov_1\n",
    "not_cov_died_percentage_1['COPD'] = P_copd_ncov_1\n",
    "not_cov_died_percentage_1['Asthma'] = P_asthma_ncov_1\n",
    "not_cov_died_percentage_1['Inmsupr'] = P_inmuspr_ncov_1\n",
    "not_cov_died_percentage_1['Hipertension'] = P_hiper_ncov_1\n",
    "not_cov_died_percentage_1['Other_Disease'] = P_other_ncov_1\n",
    "not_cov_died_percentage_1['Cardiovascular'] = P_cardio_ncov_1\n",
    "not_cov_died_percentage_1['Obesity'] = P_obesity_ncov_1\n",
    "not_cov_died_percentage_1['Renal_Chronic'] = P_renal_ncov_1\n",
    "not_cov_died_percentage_1['Tobacco'] = P_tobacco_ncov_1\n",
    "\n",
    "not_cov_died_percentage_1"
   ]
  },
  {
   "cell_type": "code",
   "execution_count": 42,
   "id": "ff8d51c0",
   "metadata": {
    "scrolled": true
   },
   "outputs": [
    {
     "data": {
      "text/plain": [
       "{'Diabetes': 0.045358370801375295,\n",
       " 'COPD': 0.02390998593530239,\n",
       " 'Asthma': 0.006300891818534315,\n",
       " 'Inmsupr': 0.08140947752126367,\n",
       " 'Hipertension': 0.02943548387096774,\n",
       " 'Other_Disease': 0.03751505764928584,\n",
       " 'Cardiovascular': 0.029135802469135802,\n",
       " 'Obesity': 0.010371269377172174,\n",
       " 'Renal_Chronic': 0.10344827586206896,\n",
       " 'Tobacco': 0.007518542351068513}"
      ]
     },
     "execution_count": 42,
     "metadata": {},
     "output_type": "execute_result"
    }
   ],
   "source": [
    "surv_diab_ncov_2 = len(df_not_cov_2[(df_not_cov_2['died'] == 0) & (df_not_cov_2['DIABETES'] == 1)])\n",
    "died_diab_ncov_2 = len(df_not_cov_2[(df_not_cov_2['died'] == 1) & (df_not_cov_2['DIABETES'] == 1)])\n",
    "P_diab_ncov_2 = died_diab_ncov_2 / (died_diab_ncov_2 + surv_diab_ncov_2)\n",
    "\n",
    "\n",
    "surv_copd_ncov_2 = len(df_not_cov_2[(df_not_cov_2['died'] == 0) & (df_not_cov_2['COPD'] == 1)])\n",
    "died_copd_ncov_2 = len(df_not_cov_2[(df_not_cov_2['died'] == 1) & (df_not_cov_2['COPD'] == 1)])\n",
    "P_copd_ncov_2 = died_copd_ncov_2 / (died_copd_ncov_2 + surv_copd_ncov_2)\n",
    "\n",
    "\n",
    "surv_asthma_ncov_2 = len(df_not_cov_2[(df_not_cov_2['died'] == 0) & (df_not_cov_2['ASTHMA'] == 1)])\n",
    "died_asthma_ncov_2 = len(df_not_cov_2[(df_not_cov_2['died'] == 1) & (df_not_cov_2['ASTHMA'] == 1)])\n",
    "P_asthma_ncov_2 = died_asthma_ncov_2 / (died_asthma_ncov_2 + surv_asthma_ncov_2)\n",
    "\n",
    "\n",
    "surv_inmuspr_ncov_2 = len(df_not_cov_2[(df_not_cov_2['died'] == 0) & (df_not_cov_2['INMSUPR'] == 1)])\n",
    "died_inmuspr_ncov_2 = len(df_not_cov_2[(df_not_cov_2['died'] == 1) & (df_not_cov_2['INMSUPR'] == 1)])\n",
    "P_inmuspr_ncov_2 = died_inmuspr_ncov_2 / (died_inmuspr_ncov_2 + surv_inmuspr_ncov_2)\n",
    "\n",
    "\n",
    "surv_hiper_ncov_2 = len(df_not_cov_2[(df_not_cov_2['died'] == 0) & (df_not_cov_2['HIPERTENSION'] == 1)])\n",
    "died_hiper_ncov_2 = len(df_not_cov_2[(df_not_cov_2['died'] == 1) & (df_not_cov_2['HIPERTENSION'] == 1)])\n",
    "P_hiper_ncov_2 = died_hiper_ncov_2 / (died_hiper_ncov_2 + surv_hiper_ncov_2)\n",
    "\n",
    "\n",
    "surv_other_ncov_2 = len(df_not_cov_2[(df_not_cov_2['died'] == 0) & (df_not_cov_2['OTHER_DISEASE'] == 1)])\n",
    "died_other_ncov_2 = len(df_not_cov_2[(df_not_cov_2['died'] == 1) & (df_not_cov_2['OTHER_DISEASE'] == 1)])\n",
    "P_other_ncov_2 = died_other_ncov_2 / (died_other_ncov_2 + surv_other_ncov_2)\n",
    "\n",
    "\n",
    "surv_cardio_ncov_2 = len(df_not_cov_2[(df_not_cov_2['died'] == 0) & (df_not_cov_2['CARDIOVASCULAR'] == 1)])\n",
    "died_cardio_ncov_2 = len(df_not_cov_2[(df_not_cov_2['died'] == 1) & (df_not_cov_2['CARDIOVASCULAR'] == 1)])\n",
    "P_cardio_ncov_2 = died_cardio_ncov_2 / (died_cardio_ncov_2 + surv_cardio_ncov_2)\n",
    "\n",
    "\n",
    "surv_obesity_ncov_2 = len(df_not_cov_2[(df_not_cov_2['died'] == 0) & (df_not_cov_2['OBESITY'] == 1)])\n",
    "died_obesity_ncov_2 = len(df_not_cov_2[(df_not_cov_2['died'] == 1) & (df_not_cov_2['OBESITY'] == 1)])\n",
    "P_obesity_ncov_2 = died_obesity_ncov_2 / (died_obesity_ncov_2 + surv_obesity_ncov_2)\n",
    "\n",
    "\n",
    "surv_renal_ncov_2 = len(df_not_cov_2[(df_not_cov_2['died'] == 0) & (df_not_cov_2['RENAL_CHRONIC'] == 1)])\n",
    "died_renal_ncov_2 = len(df_not_cov_2[(df_not_cov_2['died'] == 1) & (df_not_cov_2['RENAL_CHRONIC'] == 1)])\n",
    "P_renal_ncov_2 = died_renal_ncov_2 / (died_renal_ncov_2 + surv_renal_ncov_2)\n",
    "\n",
    "\n",
    "surv_tobacco_ncov_2 = len(df_not_cov_2[(df_not_cov_2['died'] == 0) & (df_not_cov_2['TOBACCO'] == 1)])\n",
    "died_tobacco_ncov_2 = len(df_not_cov_2[(df_not_cov_2['died'] == 1) & (df_not_cov_2['TOBACCO'] == 1)])\n",
    "P_tobacco_ncov_2 = died_tobacco_ncov_2 / (died_tobacco_ncov_2 + surv_tobacco_ncov_2)\n",
    "\n",
    "\n",
    "not_cov_died_percentage_2 = dict()\n",
    "not_cov_died_percentage_2['Diabetes'] = P_diab_ncov_2\n",
    "not_cov_died_percentage_2['COPD'] = P_copd_ncov_2\n",
    "not_cov_died_percentage_2['Asthma'] = P_asthma_ncov_2\n",
    "not_cov_died_percentage_2['Inmsupr'] = P_inmuspr_ncov_2\n",
    "not_cov_died_percentage_2['Hipertension'] = P_hiper_ncov_2\n",
    "not_cov_died_percentage_2['Other_Disease'] = P_other_ncov_2\n",
    "not_cov_died_percentage_2['Cardiovascular'] = P_cardio_ncov_2\n",
    "not_cov_died_percentage_2['Obesity'] = P_obesity_ncov_2\n",
    "not_cov_died_percentage_2['Renal_Chronic'] = P_renal_ncov_2\n",
    "not_cov_died_percentage_2['Tobacco'] = P_tobacco_ncov_2\n",
    "\n",
    "not_cov_died_percentage_2"
   ]
  },
  {
   "cell_type": "code",
   "execution_count": 43,
   "id": "430ad4cc",
   "metadata": {},
   "outputs": [
    {
     "data": {
      "text/plain": [
       "{'Diabetes': 0.08869587269384391,\n",
       " 'COPD': 0.10242243943901402,\n",
       " 'Asthma': 0.01937984496124031,\n",
       " 'Inmsupr': 0.11337939698492462,\n",
       " 'Hipertension': 0.061855420520021305,\n",
       " 'Other_Disease': 0.08657937806873978,\n",
       " 'Cardiovascular': 0.07807881773399014,\n",
       " 'Obesity': 0.04547017590265838,\n",
       " 'Renal_Chronic': 0.18519467213114754,\n",
       " 'Tobacco': 0.03907420769273464}"
      ]
     },
     "execution_count": 43,
     "metadata": {},
     "output_type": "execute_result"
    }
   ],
   "source": [
    "surv_diab_ncov_3 = len(df_not_cov_3[(df_not_cov_3['died'] == 0) & (df_not_cov_3['DIABETES'] == 1)])\n",
    "died_diab_ncov_3 = len(df_not_cov_3[(df_not_cov_3['died'] == 1) & (df_not_cov_3['DIABETES'] == 1)])\n",
    "P_diab_ncov_3 = died_diab_ncov_3 / (died_diab_ncov_3 + surv_diab_ncov_3)\n",
    "\n",
    "\n",
    "surv_copd_ncov_3 = len(df_not_cov_3[(df_not_cov_3['died'] == 0) & (df_not_cov_3['COPD'] == 1)])\n",
    "died_copd_ncov_3 = len(df_not_cov_3[(df_not_cov_3['died'] == 1) & (df_not_cov_3['COPD'] == 1)])\n",
    "P_copd_ncov_3 = died_copd_ncov_3 / (died_copd_ncov_3 + surv_copd_ncov_3)\n",
    "\n",
    "\n",
    "surv_asthma_ncov_3 = len(df_not_cov_3[(df_not_cov_3['died'] == 0) & (df_not_cov_3['ASTHMA'] == 1)])\n",
    "died_asthma_ncov_3 = len(df_not_cov_3[(df_not_cov_3['died'] == 1) & (df_not_cov_3['ASTHMA'] == 1)])\n",
    "P_asthma_ncov_3 = died_asthma_ncov_3 / (died_asthma_ncov_3 + surv_asthma_ncov_3)\n",
    "\n",
    "\n",
    "surv_inmuspr_ncov_3 = len(df_not_cov_3[(df_not_cov_3['died'] == 0) & (df_not_cov_3['INMSUPR'] == 1)])\n",
    "died_inmuspr_ncov_3 = len(df_not_cov_3[(df_not_cov_3['died'] == 1) & (df_not_cov_3['INMSUPR'] == 1)])\n",
    "P_inmuspr_ncov_3 = died_inmuspr_ncov_3 / (died_inmuspr_ncov_3 + surv_inmuspr_ncov_3)\n",
    "\n",
    "\n",
    "surv_hiper_ncov_3 = len(df_not_cov_3[(df_not_cov_3['died'] == 0) & (df_not_cov_3['HIPERTENSION'] == 1)])\n",
    "died_hiper_ncov_3 = len(df_not_cov_3[(df_not_cov_3['died'] == 1) & (df_not_cov_3['HIPERTENSION'] == 1)])\n",
    "P_hiper_ncov_3 = died_hiper_ncov_3 / (died_hiper_ncov_3 + surv_hiper_ncov_3)\n",
    "\n",
    "\n",
    "surv_other_ncov_3 = len(df_not_cov_3[(df_not_cov_3['died'] == 0) & (df_not_cov_3['OTHER_DISEASE'] == 1)])\n",
    "died_other_ncov_3 = len(df_not_cov_3[(df_not_cov_3['died'] == 1) & (df_not_cov_3['OTHER_DISEASE'] == 1)])\n",
    "P_other_ncov_3 = died_other_ncov_3 / (died_other_ncov_3 + surv_other_ncov_3)\n",
    "\n",
    "\n",
    "surv_cardio_ncov_3 = len(df_not_cov_3[(df_not_cov_3['died'] == 0) & (df_not_cov_3['CARDIOVASCULAR'] == 1)])\n",
    "died_cardio_ncov_3 = len(df_not_cov_3[(df_not_cov_3['died'] == 1) & (df_not_cov_3['CARDIOVASCULAR'] == 1)])\n",
    "P_cardio_ncov_3 = died_cardio_ncov_3 / (died_cardio_ncov_3 + surv_cardio_ncov_3)\n",
    "\n",
    "\n",
    "surv_obesity_ncov_3 = len(df_not_cov_3[(df_not_cov_3['died'] == 0) & (df_not_cov_3['OBESITY'] == 1)])\n",
    "died_obesity_ncov_3 = len(df_not_cov_3[(df_not_cov_3['died'] == 1) & (df_not_cov_3['OBESITY'] == 1)])\n",
    "P_obesity_ncov_3 = died_obesity_ncov_3 / (died_obesity_ncov_3 + surv_obesity_ncov_3)\n",
    "\n",
    "\n",
    "surv_renal_ncov_3 = len(df_not_cov_3[(df_not_cov_3['died'] == 0) & (df_not_cov_3['RENAL_CHRONIC'] == 1)])\n",
    "died_renal_ncov_3 = len(df_not_cov_3[(df_not_cov_3['died'] == 1) & (df_not_cov_3['RENAL_CHRONIC'] == 1)])\n",
    "P_renal_ncov_3 = died_renal_ncov_3 / (died_renal_ncov_3 + surv_renal_ncov_3)\n",
    "\n",
    "\n",
    "surv_tobacco_ncov_3 = len(df_not_cov_3[(df_not_cov_3['died'] == 0) & (df_not_cov_3['TOBACCO'] == 1)])\n",
    "died_tobacco_ncov_3 = len(df_not_cov_3[(df_not_cov_3['died'] == 1) & (df_not_cov_3['TOBACCO'] == 1)])\n",
    "P_tobacco_ncov_3 = died_tobacco_ncov_3 / (died_tobacco_ncov_3 + surv_tobacco_ncov_3)\n",
    "\n",
    "\n",
    "not_cov_died_percentage_3 = dict()\n",
    "not_cov_died_percentage_3['Diabetes'] = P_diab_ncov_3\n",
    "not_cov_died_percentage_3['COPD'] = P_copd_ncov_3\n",
    "not_cov_died_percentage_3['Asthma'] = P_asthma_ncov_3\n",
    "not_cov_died_percentage_3['Inmsupr'] = P_inmuspr_ncov_3\n",
    "not_cov_died_percentage_3['Hipertension'] = P_hiper_ncov_3\n",
    "not_cov_died_percentage_3['Other_Disease'] = P_other_ncov_3\n",
    "not_cov_died_percentage_3['Cardiovascular'] = P_cardio_ncov_3\n",
    "not_cov_died_percentage_3['Obesity'] = P_obesity_ncov_3\n",
    "not_cov_died_percentage_3['Renal_Chronic'] = P_renal_ncov_3\n",
    "not_cov_died_percentage_3['Tobacco'] = P_tobacco_ncov_3\n",
    "\n",
    "not_cov_died_percentage_3"
   ]
  },
  {
   "cell_type": "code",
   "execution_count": 44,
   "id": "23a28c6a",
   "metadata": {},
   "outputs": [
    {
     "data": {
      "text/plain": [
       "{'Diabetes': 0.1979263918234976,\n",
       " 'COPD': 0.20089955022488756,\n",
       " 'Asthma': 0.10141987829614604,\n",
       " 'Inmsupr': 0.22261663286004058,\n",
       " 'Hipertension': 0.17609564758240928,\n",
       " 'Other_Disease': 0.24047697913216295,\n",
       " 'Cardiovascular': 0.19854721549636803,\n",
       " 'Obesity': 0.17110928849702686,\n",
       " 'Renal_Chronic': 0.27341347497903273,\n",
       " 'Tobacco': 0.17960561378575235}"
      ]
     },
     "execution_count": 44,
     "metadata": {},
     "output_type": "execute_result"
    }
   ],
   "source": [
    "surv_diab_ncov_4 = len(df_not_cov_4[(df_not_cov_4['died'] == 0) & (df_not_cov_4['DIABETES'] == 1)])\n",
    "died_diab_ncov_4 = len(df_not_cov_4[(df_not_cov_4['died'] == 1) & (df_not_cov_4['DIABETES'] == 1)])\n",
    "P_diab_ncov_4 = died_diab_ncov_4 / (died_diab_ncov_4 + surv_diab_ncov_4)\n",
    "\n",
    "\n",
    "surv_copd_ncov_4 = len(df_not_cov_4[(df_not_cov_4['died'] == 0) & (df_not_cov_4['COPD'] == 1)])\n",
    "died_copd_ncov_4 = len(df_not_cov_4[(df_not_cov_4['died'] == 1) & (df_not_cov_4['COPD'] == 1)])\n",
    "P_copd_ncov_4 = died_copd_ncov_4 / (died_copd_ncov_4 + surv_copd_ncov_4)\n",
    "\n",
    "\n",
    "surv_asthma_ncov_4 = len(df_not_cov_4[(df_not_cov_4['died'] == 0) & (df_not_cov_4['ASTHMA'] == 1)])\n",
    "died_asthma_ncov_4 = len(df_not_cov_4[(df_not_cov_4['died'] == 1) & (df_not_cov_4['ASTHMA'] == 1)])\n",
    "P_asthma_ncov_4 = died_asthma_ncov_4 / (died_asthma_ncov_4 + surv_asthma_ncov_4)\n",
    "\n",
    "\n",
    "surv_inmuspr_ncov_4 = len(df_not_cov_4[(df_not_cov_4['died'] == 0) & (df_not_cov_4['INMSUPR'] == 1)])\n",
    "died_inmuspr_ncov_4 = len(df_not_cov_4[(df_not_cov_4['died'] == 1) & (df_not_cov_4['INMSUPR'] == 1)])\n",
    "P_inmuspr_ncov_4 = died_inmuspr_ncov_4 / (died_inmuspr_ncov_4 + surv_inmuspr_ncov_4)\n",
    "\n",
    "\n",
    "surv_hiper_ncov_4 = len(df_not_cov_4[(df_not_cov_4['died'] == 0) & (df_not_cov_4['HIPERTENSION'] == 1)])\n",
    "died_hiper_ncov_4 = len(df_not_cov_4[(df_not_cov_4['died'] == 1) & (df_not_cov_4['HIPERTENSION'] == 1)])\n",
    "P_hiper_ncov_4 = died_hiper_ncov_4 / (died_hiper_ncov_4 + surv_hiper_ncov_4)\n",
    "\n",
    "\n",
    "surv_other_ncov_4 = len(df_not_cov_4[(df_not_cov_4['died'] == 0) & (df_not_cov_4['OTHER_DISEASE'] == 1)])\n",
    "died_other_ncov_4 = len(df_not_cov_4[(df_not_cov_4['died'] == 1) & (df_not_cov_4['OTHER_DISEASE'] == 1)])\n",
    "P_other_ncov_4 = died_other_ncov_4 / (died_other_ncov_4 + surv_other_ncov_4)\n",
    "\n",
    "\n",
    "surv_cardio_ncov_4 = len(df_not_cov_4[(df_not_cov_4['died'] == 0) & (df_not_cov_4['CARDIOVASCULAR'] == 1)])\n",
    "died_cardio_ncov_4 = len(df_not_cov_4[(df_not_cov_4['died'] == 1) & (df_not_cov_4['CARDIOVASCULAR'] == 1)])\n",
    "P_cardio_ncov_4 = died_cardio_ncov_4 / (died_cardio_ncov_4 + surv_cardio_ncov_4)\n",
    "\n",
    "\n",
    "surv_obesity_ncov_4 = len(df_not_cov_4[(df_not_cov_4['died'] == 0) & (df_not_cov_4['OBESITY'] == 1)])\n",
    "died_obesity_ncov_4 = len(df_not_cov_4[(df_not_cov_4['died'] == 1) & (df_not_cov_4['OBESITY'] == 1)])\n",
    "P_obesity_ncov_4 = died_obesity_ncov_4 / (died_obesity_ncov_4 + surv_obesity_ncov_4)\n",
    "\n",
    "\n",
    "surv_renal_ncov_4 = len(df_not_cov_4[(df_not_cov_4['died'] == 0) & (df_not_cov_4['RENAL_CHRONIC'] == 1)])\n",
    "died_renal_ncov_4 = len(df_not_cov_4[(df_not_cov_4['died'] == 1) & (df_not_cov_4['RENAL_CHRONIC'] == 1)])\n",
    "P_renal_ncov_4 = died_renal_ncov_4 / (died_renal_ncov_4 + surv_renal_ncov_4)\n",
    "\n",
    "\n",
    "surv_tobacco_ncov_4 = len(df_not_cov_4[(df_not_cov_4['died'] == 0) & (df_not_cov_4['TOBACCO'] == 1)])\n",
    "died_tobacco_ncov_4 = len(df_not_cov_4[(df_not_cov_4['died'] == 1) & (df_not_cov_4['TOBACCO'] == 1)])\n",
    "P_tobacco_ncov_4 = died_tobacco_ncov_4 / (died_tobacco_ncov_4 + surv_tobacco_ncov_4)\n",
    "\n",
    "\n",
    "not_cov_died_percentage_4 = dict()\n",
    "not_cov_died_percentage_4['Diabetes'] = P_diab_ncov_4\n",
    "not_cov_died_percentage_4['COPD'] = P_copd_ncov_4\n",
    "not_cov_died_percentage_4['Asthma'] = P_asthma_ncov_4\n",
    "not_cov_died_percentage_4['Inmsupr'] = P_inmuspr_ncov_4\n",
    "not_cov_died_percentage_4['Hipertension'] = P_hiper_ncov_4\n",
    "not_cov_died_percentage_4['Other_Disease'] = P_other_ncov_4\n",
    "not_cov_died_percentage_4['Cardiovascular'] = P_cardio_ncov_4\n",
    "not_cov_died_percentage_4['Obesity'] = P_obesity_ncov_4\n",
    "not_cov_died_percentage_4['Renal_Chronic'] = P_renal_ncov_4\n",
    "not_cov_died_percentage_4['Tobacco'] = P_tobacco_ncov_4\n",
    "\n",
    "not_cov_died_percentage_4"
   ]
  },
  {
   "cell_type": "code",
   "execution_count": 45,
   "id": "1958d44d",
   "metadata": {},
   "outputs": [
    {
     "data": {
      "text/plain": [
       "{'Diabetes': 0.26343729263437293,\n",
       " 'COPD': 0.2360248447204969,\n",
       " 'Asthma': 0.13135593220338984,\n",
       " 'Inmsupr': 0.3059490084985836,\n",
       " 'Hipertension': 0.24008195194635873,\n",
       " 'Other_Disease': 0.33736559139784944,\n",
       " 'Cardiovascular': 0.24018126888217523,\n",
       " 'Obesity': 0.23984891406987724,\n",
       " 'Renal_Chronic': 0.26881720430107525,\n",
       " 'Tobacco': 0.2745694022289767}"
      ]
     },
     "execution_count": 45,
     "metadata": {},
     "output_type": "execute_result"
    }
   ],
   "source": [
    "surv_diab_ncov_5 = len(df_not_cov_5[(df_not_cov_5['died'] == 0) & (df_not_cov_5['DIABETES'] == 1)])\n",
    "died_diab_ncov_5 = len(df_not_cov_5[(df_not_cov_5['died'] == 1) & (df_not_cov_5['DIABETES'] == 1)])\n",
    "P_diab_ncov_5 = died_diab_ncov_5 / (died_diab_ncov_5 + surv_diab_ncov_5)\n",
    "\n",
    "\n",
    "surv_copd_ncov_5 = len(df_not_cov_5[(df_not_cov_5['died'] == 0) & (df_not_cov_5['COPD'] == 1)])\n",
    "died_copd_ncov_5 = len(df_not_cov_5[(df_not_cov_5['died'] == 1) & (df_not_cov_5['COPD'] == 1)])\n",
    "P_copd_ncov_5 = died_copd_ncov_5 / (died_copd_ncov_5 + surv_copd_ncov_5)\n",
    "\n",
    "\n",
    "surv_asthma_ncov_5 = len(df_not_cov_5[(df_not_cov_5['died'] == 0) & (df_not_cov_5['ASTHMA'] == 1)])\n",
    "died_asthma_ncov_5 = len(df_not_cov_5[(df_not_cov_5['died'] == 1) & (df_not_cov_5['ASTHMA'] == 1)])\n",
    "P_asthma_ncov_5 = died_asthma_ncov_5 / (died_asthma_ncov_5 + surv_asthma_ncov_5)\n",
    "\n",
    "\n",
    "surv_inmuspr_ncov_5 = len(df_not_cov_5[(df_not_cov_5['died'] == 0) & (df_not_cov_5['INMSUPR'] == 1)])\n",
    "died_inmuspr_ncov_5 = len(df_not_cov_5[(df_not_cov_5['died'] == 1) & (df_not_cov_5['INMSUPR'] == 1)])\n",
    "P_inmuspr_ncov_5 = died_inmuspr_ncov_5 / (died_inmuspr_ncov_5 + surv_inmuspr_ncov_5)\n",
    "\n",
    "\n",
    "surv_hiper_ncov_5 = len(df_not_cov_5[(df_not_cov_5['died'] == 0) & (df_not_cov_5['HIPERTENSION'] == 1)])\n",
    "died_hiper_ncov_5 = len(df_not_cov_5[(df_not_cov_5['died'] == 1) & (df_not_cov_5['HIPERTENSION'] == 1)])\n",
    "P_hiper_ncov_5 = died_hiper_ncov_5 / (died_hiper_ncov_5 + surv_hiper_ncov_5)\n",
    "\n",
    "\n",
    "surv_other_ncov_5 = len(df_not_cov_5[(df_not_cov_5['died'] == 0) & (df_not_cov_5['OTHER_DISEASE'] == 1)])\n",
    "died_other_ncov_5 = len(df_not_cov_5[(df_not_cov_5['died'] == 1) & (df_not_cov_5['OTHER_DISEASE'] == 1)])\n",
    "P_other_ncov_5 = died_other_ncov_5 / (died_other_ncov_5 + surv_other_ncov_5)\n",
    "\n",
    "\n",
    "surv_cardio_ncov_5 = len(df_not_cov_5[(df_not_cov_5['died'] == 0) & (df_not_cov_5['CARDIOVASCULAR'] == 1)])\n",
    "died_cardio_ncov_5 = len(df_not_cov_5[(df_not_cov_5['died'] == 1) & (df_not_cov_5['CARDIOVASCULAR'] == 1)])\n",
    "P_cardio_ncov_5 = died_cardio_ncov_5 / (died_cardio_ncov_5 + surv_cardio_ncov_5)\n",
    "\n",
    "\n",
    "surv_obesity_ncov_5 = len(df_not_cov_5[(df_not_cov_5['died'] == 0) & (df_not_cov_5['OBESITY'] == 1)])\n",
    "died_obesity_ncov_5 = len(df_not_cov_5[(df_not_cov_5['died'] == 1) & (df_not_cov_5['OBESITY'] == 1)])\n",
    "P_obesity_ncov_5 = died_obesity_ncov_5 / (died_obesity_ncov_5 + surv_obesity_ncov_5)\n",
    "\n",
    "\n",
    "surv_renal_ncov_5 = len(df_not_cov_5[(df_not_cov_5['died'] == 0) & (df_not_cov_5['RENAL_CHRONIC'] == 1)])\n",
    "died_renal_ncov_5 = len(df_not_cov_5[(df_not_cov_5['died'] == 1) & (df_not_cov_5['RENAL_CHRONIC'] == 1)])\n",
    "P_renal_ncov_5 = died_renal_ncov_5 / (died_renal_ncov_5 + surv_renal_ncov_5)\n",
    "\n",
    "\n",
    "surv_tobacco_ncov_5 = len(df_not_cov_5[(df_not_cov_5['died'] == 0) & (df_not_cov_5['TOBACCO'] == 1)])\n",
    "died_tobacco_ncov_5 = len(df_not_cov_5[(df_not_cov_5['died'] == 1) & (df_not_cov_5['TOBACCO'] == 1)])\n",
    "P_tobacco_ncov_5 = died_tobacco_ncov_5 / (died_tobacco_ncov_5 + surv_tobacco_ncov_5)\n",
    "\n",
    "\n",
    "not_cov_died_percentage_5 = dict()\n",
    "not_cov_died_percentage_5['Diabetes'] = P_diab_ncov_5\n",
    "not_cov_died_percentage_5['COPD'] = P_copd_ncov_5\n",
    "not_cov_died_percentage_5['Asthma'] = P_asthma_ncov_5\n",
    "not_cov_died_percentage_5['Inmsupr'] = P_inmuspr_ncov_5\n",
    "not_cov_died_percentage_5['Hipertension'] = P_hiper_ncov_5\n",
    "not_cov_died_percentage_5['Other_Disease'] = P_other_ncov_5\n",
    "not_cov_died_percentage_5['Cardiovascular'] = P_cardio_ncov_5\n",
    "not_cov_died_percentage_5['Obesity'] = P_obesity_ncov_5\n",
    "not_cov_died_percentage_5['Renal_Chronic'] = P_renal_ncov_5\n",
    "not_cov_died_percentage_5['Tobacco'] = P_tobacco_ncov_5\n",
    "\n",
    "not_cov_died_percentage_5"
   ]
  },
  {
   "cell_type": "code",
   "execution_count": 46,
   "id": "fb5042ce",
   "metadata": {},
   "outputs": [
    {
     "data": {
      "image/png": "[encoded data removed]",
      "text/plain": [
       "<Figure size 432x288 with 1 Axes>"
      ]
     },
     "metadata": {
      "needs_background": "light"
     },
     "output_type": "display_data"
    }
   ],
   "source": [
    "#wykres śmiertelności wśród grupy covidowej w podziale na grupę wiekową i chorobę przewlekłą\n",
    "cov_1 = list(cov_only_died_percentage_1.values())\n",
    "cov_2 = list(cov_only_died_percentage_2.values())\n",
    "cov_3 = list(cov_only_died_percentage_3.values())\n",
    "cov_4 = list(cov_only_died_percentage_4.values())\n",
    "cov_5 = list(cov_only_died_percentage_5.values())\n",
    "cov_names = list(cov_only_died_percentage_1.keys())\n",
    "\n",
    "barWidth = 0.2\n",
    "\n",
    "r1 = np.arange(len(cov_1))\n",
    "r2 = [x + barWidth for x in r1]\n",
    "r3 = [x + barWidth for x in r2]\n",
    "r4= [x + barWidth for x in r3]\n",
    "r5 = [x + barWidth for x in r4]\n",
    "\n",
    "plt.bar(r1, cov_1, color='red', width=barWidth, label = '0-20')\n",
    "plt.bar(r2, cov_2, color='blue', width=barWidth, label = '20-40')\n",
    "plt.bar(r3, cov_3, color='green', width=barWidth, tick_label=cov_names, label = '40-60')\n",
    "plt.bar(r4, cov_4, color='orange', width=barWidth, label = '60-80')\n",
    "plt.bar(r5, cov_5, color='brown', width=barWidth, label = '80-100')\n",
    "\n",
    "plt.title('Covid mortality by age groups')\n",
    "plt.ylim(0, 0.7)\n",
    "plt.xticks(rotation=45)\n",
    "plt.xlabel('Disease', fontweight='bold')\n",
    "                                                                                                                          \n",
    "plt.legend(bbox_to_anchor=(1.03, 1.0), loc='upper left')\n",
    "plt.show()                    "
   ]
  },
  {
   "cell_type": "code",
   "execution_count": 47,
   "id": "dda7e93f",
   "metadata": {},
   "outputs": [
    {
     "data": {
      "image/png": "[encoded data removed]",
      "text/plain": [
       "<Figure size 432x288 with 1 Axes>"
      ]
     },
     "metadata": {
      "needs_background": "light"
     },
     "output_type": "display_data"
    }
   ],
   "source": [
    "#wykres śmiertelności wśród grupy NIE-covidowej w podziale na grupę wiekową i chorobę przewlekłą\n",
    "ncov_1 = list(not_cov_died_percentage_1.values())\n",
    "ncov_2 = list(not_cov_died_percentage_2.values())\n",
    "ncov_3 = list(not_cov_died_percentage_3.values())\n",
    "ncov_4 = list(not_cov_died_percentage_4.values())\n",
    "ncov_5 = list(not_cov_died_percentage_5.values())\n",
    "cov_names = list(not_cov_died_percentage_1.keys())\n",
    "\n",
    "barWidth = 0.2\n",
    "\n",
    "r1 = np.arange(len(cov_1))\n",
    "r2 = [x + barWidth for x in r1]\n",
    "r3 = [x + barWidth for x in r2]\n",
    "r4= [x + barWidth for x in r3]\n",
    "r5 = [x + barWidth for x in r4]\n",
    "\n",
    "plt.bar(r1, ncov_1, color='red', width=barWidth, label = '0-20')\n",
    "plt.bar(r2, ncov_2, color='blue', width=barWidth, label = '20-40')\n",
    "plt.bar(r3, ncov_3, color='green', width=barWidth, tick_label=cov_names, label = '40-60')\n",
    "plt.bar(r4, ncov_4, color='orange', width=barWidth, label = '60-80')\n",
    "plt.bar(r5, ncov_5, color='brown', width=barWidth, label = '80-100')\n",
    "\n",
    "plt.title('Not covid mortality by age groups')\n",
    "plt.ylim(0, 0.7)\n",
    "plt.xlabel('Disease', fontweight='bold')\n",
    "plt.xticks(rotation=45)\n",
    "                                                                                                                          \n",
    "plt.legend(bbox_to_anchor=(1.03, 1.0), loc='upper left')\n",
    "plt.show()                    "
   ]
  },
  {
   "cell_type": "code",
   "execution_count": 48,
   "id": "a8178423",
   "metadata": {
    "scrolled": true
   },
   "outputs": [
    {
     "data": {
      "image/png": "[encoded data removed]",
      "text/plain": [
       "<Figure size 432x288 with 1 Axes>"
      ]
     },
     "metadata": {
      "needs_background": "light"
     },
     "output_type": "display_data"
    }
   ],
   "source": [
    "#poniżej wykresy słupkowe dla każdej grupy wiekowej osobno w podziale na covid/not covid\n",
    "cov_names_1 = list(cov_only_died_percentage_1.keys())\n",
    "cov_prob_1= list(cov_only_died_percentage_1.values())\n",
    "\n",
    "plt.bar(range(len(cov_names_1)), cov_prob_1, tick_label=cov_names_1)\n",
    "plt.title('Covid mortality 0-20yrs')\n",
    "plt.ylim(0,0.2)\n",
    "plt.xticks(rotation = 90)\n",
    "plt.show()"
   ]
  },
  {
   "cell_type": "code",
   "execution_count": 49,
   "id": "2359c8f5",
   "metadata": {},
   "outputs": [
    {
     "data": {
      "image/png": "[encoded data removed]",
      "text/plain": [
       "<Figure size 432x288 with 1 Axes>"
      ]
     },
     "metadata": {
      "needs_background": "light"
     },
     "output_type": "display_data"
    }
   ],
   "source": [
    "cov_names_1 = list(not_cov_died_percentage_1.keys())\n",
    "cov_prob_1= list(not_cov_died_percentage_1.values())\n",
    "\n",
    "plt.bar(range(len(cov_names_1)), cov_prob_1, tick_label=cov_names_1)\n",
    "plt.title('Not covid mortality 0-20yrs')\n",
    "plt.ylim(0,0.2)\n",
    "plt.xticks(rotation = 90)\n",
    "plt.show()"
   ]
  },
  {
   "cell_type": "code",
   "execution_count": 50,
   "id": "1262b4d2",
   "metadata": {},
   "outputs": [
    {
     "data": {
      "image/png": "[encoded data removed]",
      "text/plain": [
       "<Figure size 432x288 with 1 Axes>"
      ]
     },
     "metadata": {
      "needs_background": "light"
     },
     "output_type": "display_data"
    }
   ],
   "source": [
    "cov_names_2 = list(cov_only_died_percentage_2.keys())\n",
    "cov_prob_2= list(cov_only_died_percentage_2.values())\n",
    "\n",
    "plt.bar(range(len(cov_names_2)), cov_prob_2, tick_label=cov_names_2)\n",
    "plt.title('Covid mortality 20-40yrs')\n",
    "plt.ylim(0,0.25)\n",
    "plt.xticks(rotation = 90)\n",
    "plt.show()"
   ]
  },
  {
   "cell_type": "code",
   "execution_count": 51,
   "id": "bb3b3298",
   "metadata": {},
   "outputs": [
    {
     "data": {
      "image/png": "[encoded data removed]",
      "text/plain": [
       "<Figure size 432x288 with 1 Axes>"
      ]
     },
     "metadata": {
      "needs_background": "light"
     },
     "output_type": "display_data"
    }
   ],
   "source": [
    "cov_names_2 = list(not_cov_died_percentage_2.keys())\n",
    "cov_prob_2= list(not_cov_died_percentage_2.values())\n",
    "\n",
    "plt.bar(range(len(cov_names_2)), cov_prob_2, tick_label=cov_names_2)\n",
    "plt.title('Not covid mortality 20-40yrs')\n",
    "plt.ylim(0,0.25)\n",
    "plt.xticks(rotation = 90)\n",
    "plt.show()"
   ]
  },
  {
   "cell_type": "code",
   "execution_count": 52,
   "id": "6d148141",
   "metadata": {},
   "outputs": [
    {
     "data": {
      "image/png": "[encoded data removed]",
      "text/plain": [
       "<Figure size 432x288 with 1 Axes>"
      ]
     },
     "metadata": {
      "needs_background": "light"
     },
     "output_type": "display_data"
    }
   ],
   "source": [
    "cov_names_3 = list(cov_only_died_percentage_3.keys())\n",
    "cov_prob_3= list(cov_only_died_percentage_3.values())\n",
    "\n",
    "plt.bar(range(len(cov_names_3)), cov_prob_3, tick_label=cov_names_3)\n",
    "plt.title('Covid mortality 40-60yrs')\n",
    "plt.ylim(0,0.5)\n",
    "plt.xticks(rotation = 90)\n",
    "plt.show()"
   ]
  },
  {
   "cell_type": "code",
   "execution_count": 53,
   "id": "2e73f209",
   "metadata": {
    "scrolled": true
   },
   "outputs": [
    {
     "data": {
      "image/png": "[encoded data removed]",
      "text/plain": [
       "<Figure size 432x288 with 1 Axes>"
      ]
     },
     "metadata": {
      "needs_background": "light"
     },
     "output_type": "display_data"
    }
   ],
   "source": [
    "cov_names_3 = list(not_cov_died_percentage_3.keys())\n",
    "cov_prob_3= list(not_cov_died_percentage_3.values())\n",
    "\n",
    "plt.bar(range(len(cov_names_3)), cov_prob_3, tick_label=cov_names_3)\n",
    "plt.title('Not covid mortality 40-60yrs')\n",
    "plt.ylim(0,0.5)\n",
    "plt.xticks(rotation = 90)\n",
    "plt.show()"
   ]
  },
  {
   "cell_type": "code",
   "execution_count": 54,
   "id": "4410a276",
   "metadata": {},
   "outputs": [
    {
     "data": {
      "image/png": "[encoded data removed]",
      "text/plain": [
       "<Figure size 432x288 with 1 Axes>"
      ]
     },
     "metadata": {
      "needs_background": "light"
     },
     "output_type": "display_data"
    }
   ],
   "source": [
    "cov_names_4 = list(cov_only_died_percentage_4.keys())\n",
    "cov_prob_4= list(cov_only_died_percentage_4.values())\n",
    "\n",
    "plt.bar(range(len(cov_names_4)), cov_prob_4, tick_label=cov_names_4)\n",
    "plt.title('Covid mortality 60-80yrs')\n",
    "plt.ylim(0,0.6)\n",
    "plt.xticks(rotation = 90)\n",
    "plt.show()"
   ]
  },
  {
   "cell_type": "code",
   "execution_count": 55,
   "id": "67af0a0a",
   "metadata": {},
   "outputs": [
    {
     "data": {
      "image/png": "[encoded data removed]",
      "text/plain": [
       "<Figure size 432x288 with 1 Axes>"
      ]
     },
     "metadata": {
      "needs_background": "light"
     },
     "output_type": "display_data"
    }
   ],
   "source": [
    "cov_names_4 = list(not_cov_died_percentage_4.keys())\n",
    "cov_prob_4= list(not_cov_died_percentage_4.values())\n",
    "\n",
    "plt.bar(range(len(cov_names_4)), cov_prob_4, tick_label=cov_names_4)\n",
    "plt.title('Not covid mortality 60-80yrs')\n",
    "plt.ylim(0,0.6)\n",
    "plt.xticks(rotation = 90)\n",
    "plt.show()"
   ]
  },
  {
   "cell_type": "code",
   "execution_count": 56,
   "id": "68b910b1",
   "metadata": {},
   "outputs": [
    {
     "data": {
      "image/png": "[encoded data removed]",
      "text/plain": [
       "<Figure size 432x288 with 1 Axes>"
      ]
     },
     "metadata": {
      "needs_background": "light"
     },
     "output_type": "display_data"
    }
   ],
   "source": [
    "cov_names_5 = list(cov_only_died_percentage_5.keys())\n",
    "cov_prob_5= list(cov_only_died_percentage_5.values())\n",
    "\n",
    "plt.bar(range(len(cov_names_5)), cov_prob_5, tick_label=cov_names_5)\n",
    "plt.title('Covid mortality 80-100yrs')\n",
    "plt.ylim(0,0.7)\n",
    "plt.xticks(rotation = 90)\n",
    "plt.show()"
   ]
  },
  {
   "cell_type": "code",
   "execution_count": 57,
   "id": "3aa35183",
   "metadata": {
    "scrolled": true
   },
   "outputs": [
    {
     "data": {
      "image/png": "[encoded data removed]",
      "text/plain": [
       "<Figure size 432x288 with 1 Axes>"
      ]
     },
     "metadata": {
      "needs_background": "light"
     },
     "output_type": "display_data"
    }
   ],
   "source": [
    "cov_names_5 = list(not_cov_died_percentage_5.keys())\n",
    "cov_prob_5= list(not_cov_died_percentage_5.values())\n",
    "\n",
    "plt.bar(range(len(cov_names_5)), cov_prob_5, tick_label=cov_names_5)\n",
    "plt.title('Not covid mortality 80-100yrs')\n",
    "plt.ylim(0,0.7)\n",
    "plt.xticks(rotation = 90)\n",
    "plt.show()"
   ]
  }
 ],
 "metadata": {
  "kernelspec": {
   "display_name": "Python 3 (ipykernel)",
   "language": "python",
   "name": "python3"
  },
  "language_info": {
   "codemirror_mode": {
    "name": "ipython",
    "version": 3
   },
   "file_extension": ".py",
   "mimetype": "text/x-python",
   "name": "python",
   "nbconvert_exporter": "python",
   "pygments_lexer": "ipython3",
   "version": "3.9.12"
  }
 },
 "nbformat": 4,
 "nbformat_minor": 5
}
